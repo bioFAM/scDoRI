{
 "cells": [
  {
   "cell_type": "markdown",
   "id": "f05626a9",
   "metadata": {},
   "source": [
    "# scDoRI Model Training"
   ]
  },
  {
   "cell_type": "code",
   "execution_count": 2,
   "id": "fa73db39-a42c-49bd-b0d6-543f77d2e919",
   "metadata": {},
   "outputs": [],
   "source": [
    "import logging\n",
    "import torch\n",
    "import numpy as np\n",
    "from torch.utils.data import DataLoader, TensorDataset\n",
    "from sklearn.model_selection import train_test_split\n",
    "from pathlib import Path\n",
    "from sklearn.preprocessing import OneHotEncoder\n",
    "\n",
    "from scdori import (\n",
    "    trainConfig,\n",
    "    load_scdori_inputs,\n",
    "    save_model_weights,\n",
    "    set_seed,\n",
    "    scDoRI,\n",
    "    train_scdori_phases,\n",
    "    train_model_grn,\n",
    "    initialize_scdori_parameters,\n",
    "    load_best_model,\n",
    ")\n",
    "\n",
    "logger = logging.getLogger(__name__)\n",
    "logging.basicConfig(level=trainConfig.logging_level)"
   ]
  },
  {
   "cell_type": "markdown",
   "id": "848ed21d",
   "metadata": {},
   "source": [
    "#### Loading and preparing data for training and model initialisation"
   ]
  },
  {
   "cell_type": "code",
   "execution_count": 3,
   "id": "68263bc2-0ceb-4ac5-ae9b-aebb14e2f04d",
   "metadata": {},
   "outputs": [
    {
     "name": "stderr",
     "output_type": "stream",
     "text": [
      "INFO:__main__:Starting scDoRI pipeline with integrated GRN.\n",
      "INFO:scdori._core.utils:Random seed set to 200.\n",
      "INFO:__main__:Using device: cuda:0\n"
     ]
    }
   ],
   "source": [
    "logger.info(\"Starting scDoRI pipeline with integrated GRN.\")\n",
    "set_seed(trainConfig.random_seed)\n",
    "\n",
    "device = torch.device(\"cuda:0\" if torch.cuda.is_available() else \"cpu\")\n",
    "logger.info(f\"Using device: {device}\")"
   ]
  },
  {
   "cell_type": "markdown",
   "id": "5d7d63e0",
   "metadata": {},
   "source": [
    "## 1. load data\n",
    "\n",
    "uses the path specified in config file to load processed RNA and ATAC anndata as well as precomputed insilico-chipseq matrix and peak-gene distances"
   ]
  },
  {
   "cell_type": "code",
   "execution_count": 4,
   "id": "6372ef61-c368-4810-b25a-0c0f3fc24a1e",
   "metadata": {},
   "outputs": [
    {
     "name": "stderr",
     "output_type": "stream",
     "text": [
      "INFO:scdori._core.data_io:Loading RNA from /data/m015k/new_metacells/data_gastrulation_single_cell/generated/rna_processed.h5ad\n"
     ]
    },
    {
     "name": "stderr",
     "output_type": "stream",
     "text": [
      "INFO:scdori._core.data_io:Loading ATAC from /data/m015k/new_metacells/data_gastrulation_single_cell/generated/atac_processed.h5ad\n",
      "INFO:scdori._core.data_io:Loading gene-peak dist from /data/m015k/new_metacells/data_gastrulation_single_cell/generated/gene_peak_distance_exp.npy\n",
      "INFO:scdori._core.data_io:Loading insilico embeddings from /data/m015k/new_metacells/data_gastrulation_single_cell/generated/insilico_chipseq_act.npy & /data/m015k/new_metacells/data_gastrulation_single_cell/generated/insilico_chipseq_rep.npy\n"
     ]
    }
   ],
   "source": [
    "rna_metacell, atac_metacell, gene_peak_dist, insilico_act, insilico_rep = (\n",
    "    load_scdori_inputs(trainConfig)\n",
    ")\n",
    "gene_peak_fixed = gene_peak_dist.clone()\n",
    "gene_peak_fixed[gene_peak_fixed > 0] = 1  # mask for peak-gene links based on distance"
   ]
  },
  {
   "cell_type": "markdown",
   "id": "dc33a2f8",
   "metadata": {},
   "source": [
    "## 2. computing indices of genes which are TFs and setting number of cells per metacell ( set to 1 for single cell data)"
   ]
  },
  {
   "cell_type": "code",
   "execution_count": 5,
   "id": "9b964f1e-e99c-45e2-9ab4-6053f1f40fac",
   "metadata": {},
   "outputs": [],
   "source": [
    "# computing indices of genes which are TFs and setting number of cells per metacell ( set to 1 for single cell data)\n",
    "rna_metacell.obs[\"num_cells\"] = 1\n",
    "rna_metacell.var[\"index_int\"] = range(rna_metacell.shape[1])\n",
    "tf_indices = rna_metacell.var[rna_metacell.var.gene_type == \"TF\"].index_int.values\n",
    "num_cells = rna_metacell.obs.num_cells.values.reshape((-1, 1))"
   ]
  },
  {
   "cell_type": "markdown",
   "id": "cbcbcdbc",
   "metadata": {},
   "source": [
    "## 3. onehot encoding the batch column for entire dataset"
   ]
  },
  {
   "cell_type": "code",
   "execution_count": 6,
   "id": "c0383360-4a99-4e2e-b7a5-ca989d612f78",
   "metadata": {},
   "outputs": [
    {
     "data": {
      "text/plain": [
       "[array(['E7.5_rep1', 'E7.5_rep2', 'E7.75_rep1', 'E8.0_rep1', 'E8.0_rep2',\n",
       "        'E8.5_CRISPR_T_KO', 'E8.5_CRISPR_T_WT', 'E8.5_rep1', 'E8.5_rep2',\n",
       "        'E8.75_rep1', 'E8.75_rep2'], dtype=object)]"
      ]
     },
     "execution_count": 6,
     "metadata": {},
     "output_type": "execute_result"
    }
   ],
   "source": [
    "batch_col = trainConfig.batch_col\n",
    "rna_metacell.obs[\"batch\"] = rna_metacell.obs[batch_col].values\n",
    "atac_metacell.obs[\"batch\"] = atac_metacell.obs[batch_col].values\n",
    "# obtaining onehot encoding for technical batch,\n",
    "\n",
    "enc = OneHotEncoder(handle_unknown=\"ignore\")\n",
    "enc.fit(rna_metacell.obs[\"batch\"].values.reshape(-1, 1))\n",
    "\n",
    "onehot_batch = enc.transform(rna_metacell.obs[\"batch\"].values.reshape(-1, 1)).toarray()\n",
    "enc.categories_"
   ]
  },
  {
   "cell_type": "markdown",
   "id": "014ecac3",
   "metadata": {},
   "source": [
    "## 4. making train and evaluation datasets"
   ]
  },
  {
   "cell_type": "code",
   "execution_count": 7,
   "id": "1abdd3d9-6180-4e28-bc84-54544c40d071",
   "metadata": {},
   "outputs": [],
   "source": [
    "# 2) Make small train/test sets\n",
    "n_cells = rna_metacell.n_obs\n",
    "indices = np.arange(n_cells)\n",
    "train_idx, eval_idx = train_test_split(indices, test_size=0.2, random_state=42)\n",
    "train_dataset = TensorDataset(torch.from_numpy(train_idx))\n",
    "train_loader = DataLoader(\n",
    "    train_dataset, batch_size=trainConfig.batch_size_cell, shuffle=True\n",
    ")\n",
    "\n",
    "eval_dataset = TensorDataset(torch.from_numpy(eval_idx))\n",
    "eval_loader = DataLoader(\n",
    "    eval_dataset, batch_size=trainConfig.batch_size_cell, shuffle=False\n",
    ")"
   ]
  },
  {
   "cell_type": "markdown",
   "id": "e73bfe64",
   "metadata": {},
   "source": [
    "## 5. Build scDoRI model using parameters from config file"
   ]
  },
  {
   "cell_type": "code",
   "execution_count": 8,
   "id": "26049c26-48a3-46ac-b830-5d32bc76586f",
   "metadata": {},
   "outputs": [],
   "source": [
    "num_genes = rna_metacell.n_vars\n",
    "num_peaks = atac_metacell.n_vars\n",
    "\n",
    "num_tfs = insilico_act.shape[1]\n",
    "\n",
    "num_batches = onehot_batch.shape[1]\n",
    "model = scDoRI(\n",
    "    device=device,\n",
    "    num_genes=num_genes,\n",
    "    num_peaks=num_peaks,\n",
    "    num_tfs=num_tfs,\n",
    "    num_topics=trainConfig.num_topics,\n",
    "    num_batches=num_batches,\n",
    "    dim_encoder1=trainConfig.dim_encoder1,\n",
    "    dim_encoder2=trainConfig.dim_encoder2,\n",
    ").to(device)"
   ]
  },
  {
   "cell_type": "markdown",
   "id": "1caed7cf",
   "metadata": {},
   "source": [
    "## 6. initialising scDoRI model with precomputed matrices and setting gradients \n",
    "\n",
    "initialising with precomputed insilico-chipseq matrices and distance dependent peak-gene links\n",
    "\n",
    "also setting corresponding gradients for TF-gene links to False as they are not updated in Phase 1 of training"
   ]
  },
  {
   "cell_type": "code",
   "execution_count": 9,
   "id": "cfa89b3f-2700-45b6-851f-770792f8ea2b",
   "metadata": {},
   "outputs": [
    {
     "name": "stdout",
     "output_type": "stream",
     "text": [
      "scDoRI parameters (peak-gene distance & TF binding) initialized and relevant parameters frozen.\n"
     ]
    }
   ],
   "source": [
    "initialize_scdori_parameters(\n",
    "    model,\n",
    "    gene_peak_dist.to(device),\n",
    "    gene_peak_fixed.to(device),\n",
    "    insilico_act=insilico_act.to(device),\n",
    "    insilico_rep=insilico_rep.to(device),\n",
    "    phase=\"warmup\",\n",
    ")"
   ]
  },
  {
   "cell_type": "markdown",
   "id": "037c1059",
   "metadata": {},
   "source": [
    "#### Train Phase 1 of scDoRI model \n",
    "\n",
    "here topics are inferred using reconstruction of ATAC peaks (module 1), reconstruction of RNA from predicted ATAC (module 2) and reconstruction of TF expression (module 3)\n",
    "\n",
    "Warmup start is used where only module 1 and module 3 are trained for some initial epochs before adding module 2 "
   ]
  },
  {
   "cell_type": "code",
   "execution_count": null,
   "id": "84fade36-7b1f-4295-8052-1cbd70ea1ff8",
   "metadata": {},
   "outputs": [
    {
     "name": "stderr",
     "output_type": "stream",
     "text": [
      "INFO:scdori._core.train_scdori:Starting scDoRI phase 1 training (module 1,2,3) with validation + early stopping.\n",
      "Epoch 0 [warmup_1]: 100%|██████████| 356/356 [04:01<00:00,  1.48it/s]\n",
      "INFO:scdori._core.train_scdori:[Train] Epoch=0, Phase=warmup_1, Loss=3021143.0140, Atac=2970267.8581, TF=245.0728, RNA=21643.1397\n",
      "INFO:scdori._core.train_scdori:[Eval ] Epoch=0, Phase=warmup_1, EvalLoss=3185437.8933, EvalAtac=2724118.4635, EvalTF=170.4680, EvalRNA=21266.9779\n",
      "INFO:scdori._core.data_io:Saved model weights => /data/m015k/weights/weights_directory_scdori/best_scdori_best_eval.pth\n",
      "Epoch 1 [warmup_1]: 100%|██████████| 356/356 [04:01<00:00,  1.47it/s]\n",
      "INFO:scdori._core.train_scdori:[Train] Epoch=1, Phase=warmup_1, Loss=2716803.4270, Atac=2682611.8954, TF=161.4618, RNA=21252.9512\n",
      "INFO:scdori._core.train_scdori:[Eval ] Epoch=1, Phase=warmup_1, EvalLoss=3119237.4663, EvalAtac=2664196.4073, EvalTF=155.1917, EvalRNA=21104.8987\n",
      "INFO:scdori._core.data_io:Saved model weights => /data/m015k/weights/weights_directory_scdori/best_scdori_best_eval.pth\n",
      "Epoch 2 [warmup_1]: 100%|██████████| 356/356 [04:01<00:00,  1.47it/s]\n",
      "INFO:scdori._core.train_scdori:[Train] Epoch=2, Phase=warmup_1, Loss=2673054.4317, Atac=2640912.7892, TF=151.1844, RNA=21096.9198\n",
      "INFO:scdori._core.train_scdori:[Eval ] Epoch=2, Phase=warmup_1, EvalLoss=3089731.5646, EvalAtac=2638489.1882, EvalTF=148.1498, EvalRNA=20985.2095\n",
      "INFO:scdori._core.data_io:Saved model weights => /data/m015k/weights/weights_directory_scdori/best_scdori_best_eval.pth\n",
      "Epoch 3 [warmup_1]: 100%|██████████| 356/356 [04:01<00:00,  1.47it/s]\n",
      "INFO:scdori._core.train_scdori:[Train] Epoch=3, Phase=warmup_1, Loss=2655893.2489, Atac=2624665.7900, TF=146.5531, RNA=21036.1177\n",
      "INFO:scdori._core.train_scdori:[Eval ] Epoch=3, Phase=warmup_1, EvalLoss=3081178.1011, EvalAtac=2631482.2725, EvalTF=145.1666, EvalRNA=20936.7133\n",
      "INFO:scdori._core.data_io:Saved model weights => /data/m015k/weights/weights_directory_scdori/best_scdori_best_eval.pth\n",
      "Epoch 4 [warmup_1]: 100%|██████████| 356/356 [04:01<00:00,  1.47it/s]\n",
      "INFO:scdori._core.train_scdori:[Train] Epoch=4, Phase=warmup_1, Loss=2650634.7026, Atac=2619772.2625, TF=144.6074, RNA=21033.9879\n",
      "INFO:scdori._core.train_scdori:[Eval ] Epoch=4, Phase=warmup_1, EvalLoss=3077144.9916, EvalAtac=2627437.1208, EvalTF=143.6208, EvalRNA=20951.4105\n",
      "INFO:scdori._core.data_io:Saved model weights => /data/m015k/weights/weights_directory_scdori/best_scdori_best_eval.pth\n",
      "Epoch 5 [warmup_2]: 100%|██████████| 356/356 [04:01<00:00,  1.48it/s]\n",
      "INFO:scdori._core.train_scdori:[Train] Epoch=5, Phase=warmup_2, Loss=2710720.0248, Atac=2614850.3954, TF=143.0137, RNA=3265.4389\n",
      "INFO:scdori._core.train_scdori:[Eval ] Epoch=5, Phase=warmup_2, EvalLoss=2700535.1685, EvalAtac=2622203.8933, EvalTF=142.1814, EvalRNA=2395.9999\n",
      "INFO:scdori._core.data_io:Saved model weights => /data/m015k/weights/weights_directory_scdori/best_scdori_best_eval.pth\n",
      "Epoch 6 [warmup_2]: 100%|██████████| 356/356 [04:01<00:00,  1.47it/s]\n",
      "INFO:scdori._core.train_scdori:[Train] Epoch=6, Phase=warmup_2, Loss=2685813.2021, Atac=2609799.6429, TF=141.8490, RNA=2282.4354\n",
      "INFO:scdori._core.train_scdori:[Eval ] Epoch=6, Phase=warmup_2, EvalLoss=2692885.7949, EvalAtac=2618673.1180, EvalTF=141.3214, EvalRNA=2196.7439\n",
      "INFO:scdori._core.data_io:Saved model weights => /data/m015k/weights/weights_directory_scdori/best_scdori_best_eval.pth\n",
      "Epoch 7 [warmup_2]: 100%|██████████| 356/356 [04:01<00:00,  1.47it/s]\n",
      "INFO:scdori._core.train_scdori:[Train] Epoch=7, Phase=warmup_2, Loss=2680055.2985, Atac=2607019.8539, TF=141.2318, RNA=2137.9731\n",
      "INFO:scdori._core.train_scdori:[Eval ] Epoch=7, Phase=warmup_2, EvalLoss=2689523.5197, EvalAtac=2617512.7697, EvalTF=140.9884, EvalRNA=2088.3922\n",
      "INFO:scdori._core.data_io:Saved model weights => /data/m015k/weights/weights_directory_scdori/best_scdori_best_eval.pth\n",
      "Epoch 8 [warmup_2]: 100%|██████████| 356/356 [04:01<00:00,  1.47it/s]\n",
      "INFO:scdori._core.train_scdori:[Train] Epoch=8, Phase=warmup_2, Loss=2676710.8518, Atac=2605360.3882, TF=140.8411, RNA=2056.1526\n",
      "INFO:scdori._core.train_scdori:[Eval ] Epoch=8, Phase=warmup_2, EvalLoss=2686534.0309, EvalAtac=2615864.2837, EvalTF=140.5738, EvalRNA=2024.0863\n",
      "INFO:scdori._core.data_io:Saved model weights => /data/m015k/weights/weights_directory_scdori/best_scdori_best_eval.pth\n",
      "Epoch 9 [warmup_2]: 100%|██████████| 356/356 [04:01<00:00,  1.47it/s]\n",
      "INFO:scdori._core.train_scdori:[Train] Epoch=9, Phase=warmup_2, Loss=2674723.7921, Atac=2604344.9017, TF=140.6324, RNA=2008.3007\n",
      "INFO:scdori._core.train_scdori:[Eval ] Epoch=9, Phase=warmup_2, EvalLoss=2684877.6994, EvalAtac=2614876.4888, EvalTF=140.3390, EvalRNA=1991.6210\n",
      "INFO:scdori._core.data_io:Saved model weights => /data/m015k/weights/weights_directory_scdori/best_scdori_best_eval.pth\n",
      "Epoch 10 [warmup_2]: 100%|██████████| 356/356 [04:01<00:00,  1.47it/s]\n",
      "INFO:scdori._core.train_scdori:[Train] Epoch=10, Phase=warmup_2, Loss=2672845.8887, Atac=2603104.4538, TF=140.3418, RNA=1977.8570\n",
      "INFO:scdori._core.train_scdori:[Eval ] Epoch=10, Phase=warmup_2, EvalLoss=2683767.7303, EvalAtac=2614272.4410, EvalTF=140.2159, EvalRNA=1966.0675\n",
      "INFO:scdori._core.data_io:Saved model weights => /data/m015k/weights/weights_directory_scdori/best_scdori_best_eval.pth\n",
      "Epoch 11 [warmup_2]: 100%|██████████| 356/356 [04:01<00:00,  1.47it/s]\n",
      "INFO:scdori._core.train_scdori:[Train] Epoch=11, Phase=warmup_2, Loss=2671430.0523, Atac=2602070.5228, TF=140.1549, RNA=1959.2282\n",
      "INFO:scdori._core.train_scdori:[Eval ] Epoch=11, Phase=warmup_2, EvalLoss=2682560.0337, EvalAtac=2613408.8876, EvalTF=139.9923, EvalRNA=1949.7723\n",
      "INFO:scdori._core.data_io:Saved model weights => /data/m015k/weights/weights_directory_scdori/best_scdori_best_eval.pth\n",
      "Epoch 12 [warmup_2]: 100%|██████████| 356/356 [04:01<00:00,  1.47it/s]\n",
      "INFO:scdori._core.train_scdori:[Train] Epoch=12, Phase=warmup_2, Loss=2670607.2686, Atac=2601473.7103, TF=140.0280, RNA=1947.9119\n",
      "INFO:scdori._core.train_scdori:[Eval ] Epoch=12, Phase=warmup_2, EvalLoss=2681623.2500, EvalAtac=2612622.8596, EvalTF=139.8877, EvalRNA=1942.0047\n",
      "INFO:scdori._core.data_io:Saved model weights => /data/m015k/weights/weights_directory_scdori/best_scdori_best_eval.pth\n",
      "Epoch 13 [warmup_2]: 100%|██████████| 356/356 [04:01<00:00,  1.47it/s]\n",
      "INFO:scdori._core.train_scdori:[Train] Epoch=13, Phase=warmup_2, Loss=2669799.4842, Atac=2600811.2435, TF=139.9150, RNA=1940.5428\n",
      "INFO:scdori._core.train_scdori:[Eval ] Epoch=13, Phase=warmup_2, EvalLoss=2681284.8090, EvalAtac=2612346.5365, EvalTF=139.8288, EvalRNA=1938.3002\n",
      "INFO:scdori._core.data_io:Saved model weights => /data/m015k/weights/weights_directory_scdori/best_scdori_best_eval.pth\n",
      "Epoch 14 [warmup_2]: 100%|██████████| 356/356 [04:02<00:00,  1.47it/s]\n",
      "INFO:scdori._core.train_scdori:[Train] Epoch=14, Phase=warmup_2, Loss=2669155.4775, Atac=2600278.9178, TF=139.7519, RNA=1935.2630\n",
      "INFO:scdori._core.train_scdori:[Eval ] Epoch=14, Phase=warmup_2, EvalLoss=2681208.8118, EvalAtac=2612377.3371, EvalTF=139.6624, EvalRNA=1933.1755\n",
      "INFO:scdori._core.data_io:Saved model weights => /data/m015k/weights/weights_directory_scdori/best_scdori_best_eval.pth\n",
      "Epoch 15 [warmup_2]: 100%|██████████| 356/356 [04:02<00:00,  1.47it/s]\n",
      "INFO:scdori._core.train_scdori:[Train] Epoch=15, Phase=warmup_2, Loss=2668432.5774, Atac=2599609.4951, TF=139.6393, RNA=1932.3193\n",
      "INFO:scdori._core.train_scdori:[Eval ] Epoch=15, Phase=warmup_2, EvalLoss=2680323.1742, EvalAtac=2611575.8287, EvalTF=139.5057, EvalRNA=1929.1217\n",
      "INFO:scdori._core.data_io:Saved model weights => /data/m015k/weights/weights_directory_scdori/best_scdori_best_eval.pth\n",
      "Epoch 16 [warmup_2]: 100%|██████████| 356/356 [04:01<00:00,  1.47it/s]\n",
      "INFO:scdori._core.train_scdori:[Train] Epoch=16, Phase=warmup_2, Loss=2667691.4645, Atac=2598927.0176, TF=139.5071, RNA=1929.2069\n",
      "INFO:scdori._core.train_scdori:[Eval ] Epoch=16, Phase=warmup_2, EvalLoss=2679688.0562, EvalAtac=2610976.3708, EvalTF=139.4061, EvalRNA=1926.8610\n",
      "INFO:scdori._core.data_io:Saved model weights => /data/m015k/weights/weights_directory_scdori/best_scdori_best_eval.pth\n",
      "Epoch 17 [warmup_2]: 100%|██████████| 356/356 [04:01<00:00,  1.47it/s]\n",
      "INFO:scdori._core.train_scdori:[Train] Epoch=17, Phase=warmup_2, Loss=2667208.4782, Atac=2598474.9975, TF=139.3820, RNA=1927.4448\n",
      "INFO:scdori._core.train_scdori:[Eval ] Epoch=17, Phase=warmup_2, EvalLoss=2679228.7416, EvalAtac=2610552.3427, EvalTF=139.2519, EvalRNA=1924.9622\n",
      "INFO:scdori._core.data_io:Saved model weights => /data/m015k/weights/weights_directory_scdori/best_scdori_best_eval.pth\n",
      "Epoch 18 [warmup_2]: 100%|██████████| 356/356 [04:02<00:00,  1.47it/s]\n",
      "INFO:scdori._core.train_scdori:[Train] Epoch=18, Phase=warmup_2, Loss=2666244.7584, Atac=2597529.5878, TF=139.2311, RNA=1926.2109\n",
      "INFO:scdori._core.train_scdori:[Eval ] Epoch=18, Phase=warmup_2, EvalLoss=2678452.3230, EvalAtac=2609694.8989, EvalTF=139.3750, EvalRNA=1926.0085\n",
      "INFO:scdori._core.data_io:Saved model weights => /data/m015k/weights/weights_directory_scdori/best_scdori_best_eval.pth\n",
      "Epoch 19 [warmup_2]: 100%|██████████| 356/356 [04:01<00:00,  1.47it/s]\n",
      "INFO:scdori._core.train_scdori:[Train] Epoch=19, Phase=warmup_2, Loss=2665422.4066, Atac=2596700.8613, TF=139.1441, RNA=1925.7501\n",
      "INFO:scdori._core.train_scdori:[Eval ] Epoch=19, Phase=warmup_2, EvalLoss=2677784.0730, EvalAtac=2609078.1236, EvalTF=139.1703, EvalRNA=1923.9322\n",
      "INFO:scdori._core.data_io:Saved model weights => /data/m015k/weights/weights_directory_scdori/best_scdori_best_eval.pth\n",
      "Epoch 20 [warmup_2]: 100%|██████████| 356/356 [04:01<00:00,  1.47it/s]\n",
      "INFO:scdori._core.train_scdori:[Train] Epoch=20, Phase=warmup_2, Loss=2664845.4329, Atac=2596126.2904, TF=139.0590, RNA=1924.9700\n",
      "INFO:scdori._core.train_scdori:[Eval ] Epoch=20, Phase=warmup_2, EvalLoss=2677723.0674, EvalAtac=2608997.7388, EvalTF=139.1050, EvalRNA=1924.0536\n",
      "INFO:scdori._core.data_io:Saved model weights => /data/m015k/weights/weights_directory_scdori/best_scdori_best_eval.pth\n",
      "Epoch 21 [warmup_2]: 100%|██████████| 356/356 [04:01<00:00,  1.47it/s]\n",
      "INFO:scdori._core.train_scdori:[Train] Epoch=21, Phase=warmup_2, Loss=2664466.5177, Atac=2595742.6122, TF=139.0011, RNA=1924.2663\n",
      "INFO:scdori._core.train_scdori:[Eval ] Epoch=21, Phase=warmup_2, EvalLoss=2677182.2921, EvalAtac=2608476.1826, EvalTF=139.0002, EvalRNA=1922.6029\n",
      "INFO:scdori._core.data_io:Saved model weights => /data/m015k/weights/weights_directory_scdori/best_scdori_best_eval.pth\n",
      "Epoch 22 [warmup_2]: 100%|██████████| 356/356 [04:01<00:00,  1.47it/s]\n",
      "INFO:scdori._core.train_scdori:[Train] Epoch=22, Phase=warmup_2, Loss=2664134.7159, Atac=2595400.3290, TF=138.9346, RNA=1923.9807\n",
      "INFO:scdori._core.train_scdori:[Eval ] Epoch=22, Phase=warmup_2, EvalLoss=2677298.6713, EvalAtac=2608546.9101, EvalTF=139.0354, EvalRNA=1923.0087\n",
      "Epoch 23 [warmup_2]: 100%|██████████| 356/356 [04:01<00:00,  1.47it/s]\n",
      "INFO:scdori._core.train_scdori:[Train] Epoch=23, Phase=warmup_2, Loss=2663662.3803, Atac=2594940.9191, TF=138.8183, RNA=1922.6670\n",
      "INFO:scdori._core.train_scdori:[Eval ] Epoch=23, Phase=warmup_2, EvalLoss=2676489.4101, EvalAtac=2607761.3961, EvalTF=138.9106, EvalRNA=1921.0324\n",
      "INFO:scdori._core.data_io:Saved model weights => /data/m015k/weights/weights_directory_scdori/best_scdori_best_eval.pth\n",
      "Epoch 24 [warmup_2]: 100%|██████████| 356/356 [04:01<00:00,  1.47it/s]\n",
      "INFO:scdori._core.train_scdori:[Train] Epoch=24, Phase=warmup_2, Loss=2663218.4470, Atac=2594507.2721, TF=138.6739, RNA=1921.5195\n",
      "INFO:scdori._core.train_scdori:[Eval ] Epoch=24, Phase=warmup_2, EvalLoss=2676047.2725, EvalAtac=2607348.5028, EvalTF=138.7101, EvalRNA=1919.5128\n",
      "INFO:scdori._core.data_io:Saved model weights => /data/m015k/weights/weights_directory_scdori/best_scdori_best_eval.pth\n",
      "Epoch 25 [warmup_2]: 100%|██████████| 356/356 [04:01<00:00,  1.47it/s]\n",
      "INFO:scdori._core.train_scdori:[Train] Epoch=25, Phase=warmup_2, Loss=2662598.7921, Atac=2593888.8574, TF=138.5582, RNA=1920.5890\n",
      "INFO:scdori._core.train_scdori:[Eval ] Epoch=25, Phase=warmup_2, EvalLoss=2675749.5393, EvalAtac=2607055.8539, EvalTF=138.5857, EvalRNA=1918.4276\n",
      "INFO:scdori._core.data_io:Saved model weights => /data/m015k/weights/weights_directory_scdori/best_scdori_best_eval.pth\n",
      "Epoch 26 [warmup_2]: 100%|██████████| 356/356 [04:01<00:00,  1.47it/s]\n",
      "INFO:scdori._core.train_scdori:[Train] Epoch=26, Phase=warmup_2, Loss=2662045.8162, Atac=2593378.6401, TF=138.3496, RNA=1918.4686\n",
      "INFO:scdori._core.train_scdori:[Eval ] Epoch=26, Phase=warmup_2, EvalLoss=2675239.8230, EvalAtac=2606584.5562, EvalTF=138.3578, EvalRNA=1916.7729\n",
      "INFO:scdori._core.data_io:Saved model weights => /data/m015k/weights/weights_directory_scdori/best_scdori_best_eval.pth\n",
      "Epoch 27 [warmup_2]: 100%|██████████| 356/356 [04:01<00:00,  1.47it/s]\n",
      "INFO:scdori._core.train_scdori:[Train] Epoch=27, Phase=warmup_2, Loss=2661528.6973, Atac=2592881.8006, TF=138.1807, RNA=1917.1914\n",
      "INFO:scdori._core.train_scdori:[Eval ] Epoch=27, Phase=warmup_2, EvalLoss=2675023.4522, EvalAtac=2606356.8174, EvalTF=138.3020, EvalRNA=1915.9999\n",
      "INFO:scdori._core.data_io:Saved model weights => /data/m015k/weights/weights_directory_scdori/best_scdori_best_eval.pth\n",
      "Epoch 28 [warmup_2]: 100%|██████████| 356/356 [04:00<00:00,  1.48it/s]\n",
      "INFO:scdori._core.train_scdori:[Train] Epoch=28, Phase=warmup_2, Loss=2661367.9561, Atac=2592708.3692, TF=138.1016, RNA=1916.7159\n",
      "INFO:scdori._core.train_scdori:[Eval ] Epoch=28, Phase=warmup_2, EvalLoss=2674923.1854, EvalAtac=2606239.5393, EvalTF=138.1866, EvalRNA=1916.1037\n",
      "INFO:scdori._core.data_io:Saved model weights => /data/m015k/weights/weights_directory_scdori/best_scdori_best_eval.pth\n",
      "Epoch 29 [warmup_2]: 100%|██████████| 356/356 [04:00<00:00,  1.48it/s]\n",
      "INFO:scdori._core.train_scdori:[Train] Epoch=29, Phase=warmup_2, Loss=2660985.4972, Atac=2592313.8904, TF=138.0219, RNA=1916.1473\n",
      "INFO:scdori._core.train_scdori:[Eval ] Epoch=29, Phase=warmup_2, EvalLoss=2674663.9579, EvalAtac=2605970.2247, EvalTF=138.1552, EvalRNA=1914.9091\n",
      "INFO:scdori._core.data_io:Saved model weights => /data/m015k/weights/weights_directory_scdori/best_scdori_best_eval.pth\n",
      "Epoch 30 [warmup_2]: 100%|██████████| 356/356 [04:00<00:00,  1.48it/s]\n",
      "INFO:scdori._core.train_scdori:[Train] Epoch=30, Phase=warmup_2, Loss=2660612.5269, Atac=2591939.5009, TF=137.9063, RNA=1915.2244\n",
      "INFO:scdori._core.train_scdori:[Eval ] Epoch=30, Phase=warmup_2, EvalLoss=2674404.5365, EvalAtac=2605692.4438, EvalTF=138.0816, EvalRNA=1914.2147\n",
      "INFO:scdori._core.data_io:Saved model weights => /data/m015k/weights/weights_directory_scdori/best_scdori_best_eval.pth\n",
      "Epoch 31 [warmup_2]: 100%|██████████| 356/356 [04:00<00:00,  1.48it/s]\n",
      "INFO:scdori._core.train_scdori:[Train] Epoch=31, Phase=warmup_2, Loss=2660393.1682, Atac=2591697.6864, TF=137.8321, RNA=1914.8877\n",
      "INFO:scdori._core.train_scdori:[Eval ] Epoch=31, Phase=warmup_2, EvalLoss=2674608.1573, EvalAtac=2605864.4691, EvalTF=138.0898, EvalRNA=1913.6736\n",
      "Epoch 32 [warmup_2]: 100%|██████████| 356/356 [04:01<00:00,  1.47it/s]\n",
      "INFO:scdori._core.train_scdori:[Train] Epoch=32, Phase=warmup_2, Loss=2659902.5142, Atac=2591217.5562, TF=137.7095, RNA=1913.4548\n",
      "INFO:scdori._core.train_scdori:[Eval ] Epoch=32, Phase=warmup_2, EvalLoss=2674271.2893, EvalAtac=2605520.4213, EvalTF=137.9267, EvalRNA=1913.3267\n",
      "INFO:scdori._core.data_io:Saved model weights => /data/m015k/weights/weights_directory_scdori/best_scdori_best_eval.pth\n",
      "Epoch 33 [warmup_2]: 100%|██████████| 356/356 [04:01<00:00,  1.48it/s]\n",
      "INFO:scdori._core.train_scdori:[Train] Epoch=33, Phase=warmup_2, Loss=2659676.9235, Atac=2590972.9163, TF=137.6054, RNA=1912.9289\n",
      "INFO:scdori._core.train_scdori:[Eval ] Epoch=33, Phase=warmup_2, EvalLoss=2673741.2865, EvalAtac=2605029.2725, EvalTF=137.7207, EvalRNA=1910.7825\n",
      "INFO:scdori._core.data_io:Saved model weights => /data/m015k/weights/weights_directory_scdori/best_scdori_best_eval.pth\n",
      "Epoch 34 [warmup_2]: 100%|██████████| 356/356 [04:01<00:00,  1.48it/s]\n",
      "INFO:scdori._core.train_scdori:[Train] Epoch=34, Phase=warmup_2, Loss=2659163.7718, Atac=2590436.9995, TF=137.5012, RNA=1912.1642\n",
      "INFO:scdori._core.train_scdori:[Eval ] Epoch=34, Phase=warmup_2, EvalLoss=2673601.1264, EvalAtac=2604819.8118, EvalTF=137.7361, EvalRNA=1910.8925\n",
      "INFO:scdori._core.data_io:Saved model weights => /data/m015k/weights/weights_directory_scdori/best_scdori_best_eval.pth\n",
      "Epoch 35 [warmup_2]: 100%|██████████| 356/356 [04:01<00:00,  1.47it/s]\n",
      "INFO:scdori._core.train_scdori:[Train] Epoch=35, Phase=warmup_2, Loss=2658835.3571, Atac=2590097.3388, TF=137.4004, RNA=1911.0746\n",
      "INFO:scdori._core.train_scdori:[Eval ] Epoch=35, Phase=warmup_2, EvalLoss=2673202.7472, EvalAtac=2604444.7051, EvalTF=137.5378, EvalRNA=1909.5740\n",
      "INFO:scdori._core.data_io:Saved model weights => /data/m015k/weights/weights_directory_scdori/best_scdori_best_eval.pth\n",
      "Epoch 36 [warmup_2]: 100%|██████████| 356/356 [04:01<00:00,  1.47it/s]\n",
      "INFO:scdori._core.train_scdori:[Train] Epoch=36, Phase=warmup_2, Loss=2658423.7440, Atac=2589663.2507, TF=137.3021, RNA=1910.5021\n",
      "INFO:scdori._core.train_scdori:[Eval ] Epoch=36, Phase=warmup_2, EvalLoss=2673088.8989, EvalAtac=2604281.4326, EvalTF=137.5083, EvalRNA=1909.0788\n",
      "INFO:scdori._core.data_io:Saved model weights => /data/m015k/weights/weights_directory_scdori/best_scdori_best_eval.pth\n",
      "Epoch 37 [warmup_2]: 100%|██████████| 356/356 [04:01<00:00,  1.47it/s]\n",
      "INFO:scdori._core.train_scdori:[Train] Epoch=37, Phase=warmup_2, Loss=2657993.9828, Atac=2589196.0994, TF=137.1890, RNA=1909.5393\n",
      "INFO:scdori._core.train_scdori:[Eval ] Epoch=37, Phase=warmup_2, EvalLoss=2672842.3455, EvalAtac=2603987.9213, EvalTF=137.3759, EvalRNA=1907.9242\n",
      "INFO:scdori._core.data_io:Saved model weights => /data/m015k/weights/weights_directory_scdori/best_scdori_best_eval.pth\n",
      "Epoch 38 [warmup_2]: 100%|██████████| 356/356 [04:01<00:00,  1.47it/s]\n",
      "INFO:scdori._core.train_scdori:[Train] Epoch=38, Phase=warmup_2, Loss=2657657.7135, Atac=2588817.2353, TF=137.0263, RNA=1908.2435\n",
      "INFO:scdori._core.train_scdori:[Eval ] Epoch=38, Phase=warmup_2, EvalLoss=2672701.8062, EvalAtac=2603777.9635, EvalTF=137.3165, EvalRNA=1908.1021\n",
      "INFO:scdori._core.data_io:Saved model weights => /data/m015k/weights/weights_directory_scdori/best_scdori_best_eval.pth\n",
      "Epoch 39 [warmup_2]: 100%|██████████| 356/356 [04:01<00:00,  1.47it/s]\n",
      "INFO:scdori._core.train_scdori:[Train] Epoch=39, Phase=warmup_2, Loss=2657288.6689, Atac=2588438.2533, TF=136.9122, RNA=1907.2062\n",
      "INFO:scdori._core.train_scdori:[Eval ] Epoch=39, Phase=warmup_2, EvalLoss=2672279.2416, EvalAtac=2603362.9579, EvalTF=137.2010, EvalRNA=1906.4920\n",
      "INFO:scdori._core.data_io:Saved model weights => /data/m015k/weights/weights_directory_scdori/best_scdori_best_eval.pth\n",
      "Epoch 40 [warmup_2]: 100%|██████████| 356/356 [04:01<00:00,  1.48it/s]\n",
      "INFO:scdori._core.train_scdori:[Train] Epoch=40, Phase=warmup_2, Loss=2656874.8111, Atac=2587989.7296, TF=136.8171, RNA=1907.2763\n",
      "INFO:scdori._core.train_scdori:[Eval ] Epoch=40, Phase=warmup_2, EvalLoss=2672472.9579, EvalAtac=2603475.6545, EvalTF=137.2250, EvalRNA=1907.5287\n",
      "Epoch 41 [warmup_2]: 100%|██████████| 356/356 [04:01<00:00,  1.48it/s]\n",
      "INFO:scdori._core.train_scdori:[Train] Epoch=41, Phase=warmup_2, Loss=2656622.0776, Atac=2587721.5934, TF=136.7514, RNA=1906.1229\n",
      "INFO:scdori._core.train_scdori:[Eval ] Epoch=41, Phase=warmup_2, EvalLoss=2672004.2051, EvalAtac=2603035.8034, EvalTF=137.0556, EvalRNA=1905.0148\n",
      "INFO:scdori._core.data_io:Saved model weights => /data/m015k/weights/weights_directory_scdori/best_scdori_best_eval.pth\n",
      "Epoch 42 [warmup_2]: 100%|██████████| 356/356 [04:01<00:00,  1.47it/s]\n",
      "INFO:scdori._core.train_scdori:[Train] Epoch=42, Phase=warmup_2, Loss=2656321.0183, Atac=2587399.3473, TF=136.6718, RNA=1905.3438\n",
      "INFO:scdori._core.train_scdori:[Eval ] Epoch=42, Phase=warmup_2, EvalLoss=2672056.4579, EvalAtac=2603043.8539, EvalTF=137.0438, EvalRNA=1904.7801\n",
      "Epoch 43 [warmup_2]: 100%|██████████| 356/356 [04:01<00:00,  1.47it/s]\n",
      "INFO:scdori._core.train_scdori:[Train] Epoch=43, Phase=warmup_2, Loss=2656289.8743, Atac=2587307.8265, TF=136.6323, RNA=1905.5802\n",
      "INFO:scdori._core.train_scdori:[Eval ] Epoch=43, Phase=warmup_2, EvalLoss=2672002.9691, EvalAtac=2602906.3174, EvalTF=137.0486, EvalRNA=1905.6089\n",
      "INFO:scdori._core.data_io:Saved model weights => /data/m015k/weights/weights_directory_scdori/best_scdori_best_eval.pth\n",
      "Epoch 44 [warmup_2]: 100%|██████████| 356/356 [04:01<00:00,  1.48it/s]\n",
      "INFO:scdori._core.train_scdori:[Train] Epoch=44, Phase=warmup_2, Loss=2655958.6608, Atac=2586962.9765, TF=136.5605, RNA=1904.7194\n",
      "INFO:scdori._core.train_scdori:[Eval ] Epoch=44, Phase=warmup_2, EvalLoss=2672055.4017, EvalAtac=2602963.1433, EvalTF=136.9368, EvalRNA=1904.4455\n",
      "Epoch 45 [warmup_2]: 100%|██████████| 356/356 [04:00<00:00,  1.48it/s]\n",
      "INFO:scdori._core.train_scdori:[Train] Epoch=45, Phase=warmup_2, Loss=2655762.2409, Atac=2586734.1096, TF=136.4864, RNA=1904.1206\n",
      "INFO:scdori._core.train_scdori:[Eval ] Epoch=45, Phase=warmup_2, EvalLoss=2672118.0000, EvalAtac=2602940.8343, EvalTF=136.9549, EvalRNA=1905.5591\n",
      "Epoch 46 [warmup_2]: 100%|██████████| 356/356 [04:00<00:00,  1.48it/s]\n",
      "INFO:scdori._core.train_scdori:[Train] Epoch=46, Phase=warmup_2, Loss=2655744.2907, Atac=2586640.8190, TF=136.5054, RNA=1904.6333\n",
      "INFO:scdori._core.train_scdori:[Eval ] Epoch=46, Phase=warmup_2, EvalLoss=2672156.3961, EvalAtac=2602933.7416, EvalTF=136.9171, EvalRNA=1904.8740\n",
      "Epoch 47 [warmup_2]: 100%|██████████| 356/356 [04:00<00:00,  1.48it/s]\n",
      "INFO:scdori._core.train_scdori:[Train] Epoch=47, Phase=warmup_2, Loss=2655498.8255, Atac=2586379.4586, TF=136.3908, RNA=1903.4109\n",
      "INFO:scdori._core.train_scdori:[Eval ] Epoch=47, Phase=warmup_2, EvalLoss=2671490.7444, EvalAtac=2602239.4410, EvalTF=136.8789, EvalRNA=1903.8758\n",
      "INFO:scdori._core.data_io:Saved model weights => /data/m015k/weights/weights_directory_scdori/best_scdori_best_eval.pth\n",
      "Epoch 48 [warmup_2]: 100%|██████████| 356/356 [04:00<00:00,  1.48it/s]\n",
      "INFO:scdori._core.train_scdori:[Train] Epoch=48, Phase=warmup_2, Loss=2655258.1104, Atac=2586091.1854, TF=136.3317, RNA=1902.9994\n",
      "INFO:scdori._core.train_scdori:[Eval ] Epoch=48, Phase=warmup_2, EvalLoss=2671699.8764, EvalAtac=2602405.0000, EvalTF=136.8182, EvalRNA=1902.8121\n",
      "Epoch 49 [warmup_2]: 100%|██████████| 356/356 [04:01<00:00,  1.48it/s]\n",
      "INFO:scdori._core.train_scdori:[Train] Epoch=49, Phase=warmup_2, Loss=2655264.0627, Atac=2586032.9712, TF=136.3121, RNA=1902.7153\n"
     ]
    }
   ],
   "source": [
    "model = train_scdori_phases(\n",
    "    model,\n",
    "    device,\n",
    "    train_loader,\n",
    "    eval_loader,\n",
    "    rna_metacell,\n",
    "    atac_metacell,\n",
    "    num_cells,\n",
    "    tf_indices,\n",
    "    onehot_batch,\n",
    "    trainConfig,\n",
    ")"
   ]
  },
  {
   "cell_type": "code",
   "execution_count": null,
   "id": "ef80adbb-9dba-40e5-a2c0-96c328b06527",
   "metadata": {},
   "outputs": [],
   "source": [
    "# saving the model weight correspoinding to final epoch where model stopped training\n",
    "save_model_weights(model, Path(trainConfig.weights_folder_scdori), \"scdori_final\")"
   ]
  },
  {
   "cell_type": "markdown",
   "id": "39ee8a70",
   "metadata": {},
   "source": [
    "#### Train Phase 2 of scDoRI model \n",
    "here activator and repressor TF-gene links per topic are inferred (module 4)\n",
    "\n",
    "optionally the encoder and other model parameters from module 1,2,3 are frozen for stability"
   ]
  },
  {
   "cell_type": "markdown",
   "id": "e7890e7d",
   "metadata": {},
   "source": [
    "## 7. Load best checkpoint from Phase 1"
   ]
  },
  {
   "cell_type": "code",
   "execution_count": 10,
   "id": "74b8e106-df35-4862-bb24-2a7b6ca628be",
   "metadata": {},
   "outputs": [
    {
     "name": "stderr",
     "output_type": "stream",
     "text": [
      "INFO:scdori._core.downstream:Loaded best model weights from /data/m015k/weights/weights_directory_scdori/best_scdori_best_eval.pth\n"
     ]
    }
   ],
   "source": [
    "# loading the best checkpoint from Phase 1\n",
    "model = load_best_model(\n",
    "    model, Path(trainConfig.weights_folder_scdori) / \"best_scdori_best_eval.pth\", device\n",
    ")"
   ]
  },
  {
   "cell_type": "markdown",
   "id": "8516b59a",
   "metadata": {},
   "source": [
    "## 8. Set gradients for Phase 2 training\n",
    "\n",
    "TF-gene links are learnt in this step"
   ]
  },
  {
   "cell_type": "code",
   "execution_count": 11,
   "id": "a1095ef4-5b07-495e-9276-1472af453d81",
   "metadata": {},
   "outputs": [
    {
     "name": "stdout",
     "output_type": "stream",
     "text": [
      "scDoRI parameters (peak-gene distance & TF binding) initialized and relevant parameters frozen.\n"
     ]
    }
   ],
   "source": [
    "initialize_scdori_parameters(\n",
    "    model,\n",
    "    gene_peak_dist,\n",
    "    gene_peak_fixed,\n",
    "    insilico_act=insilico_act,\n",
    "    insilico_rep=insilico_rep,\n",
    "    phase=\"grn\",\n",
    ")"
   ]
  },
  {
   "cell_type": "markdown",
   "id": "3db9e378",
   "metadata": {},
   "source": [
    "## 9. Phase 2 training and saving model weights\n"
   ]
  },
  {
   "cell_type": "code",
   "execution_count": null,
   "id": "57eb6923-872e-4f2a-9382-0f4ec06e2693",
   "metadata": {},
   "outputs": [],
   "source": [
    "# train Phase 2 of scDoRI model, TF-gene links are learnt in this phase and used to reconstruct gene-expression profiles\n",
    "model = train_model_grn(\n",
    "    model,\n",
    "    device,\n",
    "    train_loader,\n",
    "    eval_loader,\n",
    "    rna_metacell,\n",
    "    atac_metacell,\n",
    "    num_cells,\n",
    "    tf_indices,\n",
    "    onehot_batch,\n",
    "    trainConfig,\n",
    ")"
   ]
  },
  {
   "cell_type": "code",
   "execution_count": 17,
   "id": "16da32bc-24d4-4a6f-86d9-179dda0f2583",
   "metadata": {},
   "outputs": [
    {
     "name": "stderr",
     "output_type": "stream",
     "text": [
      "INFO:scdori._core.data_io:Saved model weights => /data/m015k/weights/weights_directory_grn/best_scdori_final.pth\n"
     ]
    }
   ],
   "source": [
    "# saving the model weight correspoinding to final epoch where model stopped training\n",
    "save_model_weights(model, Path(trainConfig.weights_folder_grn), \"scdori_final\")"
   ]
  }
 ],
 "metadata": {
  "kernelspec": {
   "display_name": "Python 3",
   "language": "python",
   "name": "python3"
  },
  "language_info": {
   "codemirror_mode": {
    "name": "ipython",
    "version": 3
   },
   "file_extension": ".py",
   "mimetype": "text/x-python",
   "name": "python",
   "nbconvert_exporter": "python",
   "pygments_lexer": "ipython3",
   "version": "3.10.16"
  }
 },
 "nbformat": 4,
 "nbformat_minor": 5
}
