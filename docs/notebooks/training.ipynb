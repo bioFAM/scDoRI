{
 "cells": [
  {
   "cell_type": "markdown",
   "id": "f05626a9",
   "metadata": {},
   "source": [
    "# scDoRI model training and downstream analysis"
   ]
  },
  {
   "cell_type": "code",
   "execution_count": 1,
   "id": "fa73db39-a42c-49bd-b0d6-543f77d2e919",
   "metadata": {},
   "outputs": [],
   "source": [
    "import logging\n",
    "import torch\n",
    "import numpy as np\n",
    "from torch.utils.data import DataLoader, TensorDataset\n",
    "from sklearn.model_selection import train_test_split\n",
    "from pathlib import Path\n",
    "from sklearn.preprocessing import OneHotEncoder\n",
    "\n",
    "from scdori import (\n",
    "    trainConfig,\n",
    "    load_scdori_inputs,\n",
    "    save_model_weights,\n",
    "    set_seed,\n",
    "    scDoRI,\n",
    "    train_scdori_phases,\n",
    "    train_model_grn,\n",
    "    initialize_scdori_parameters,\n",
    "    load_best_model,\n",
    ")\n",
    "\n",
    "logger = logging.getLogger(__name__)"
   ]
  },
  {
   "cell_type": "markdown",
   "id": "848ed21d",
   "metadata": {},
   "source": [
    "#### Loading and preparing data for training and model initialisation"
   ]
  },
  {
   "cell_type": "code",
   "execution_count": null,
   "id": "68263bc2-0ceb-4ac5-ae9b-aebb14e2f04d",
   "metadata": {},
   "outputs": [],
   "source": [
    "logging.basicConfig(level=trainConfig.logging_level)\n",
    "logger.info(\"Starting scDoRI pipeline with integrated GRN.\")\n",
    "set_seed(trainConfig.random_seed)\n",
    "\n",
    "device = torch.device(\"cuda:0\" if torch.cuda.is_available() else \"cpu\")\n",
    "logger.info(f\"Using device: {device}\")"
   ]
  },
  {
   "cell_type": "markdown",
   "id": "5d7d63e0",
   "metadata": {},
   "source": [
    "## 1. load data\n",
    "\n",
    "uses the path specified in config file to load processed RNA and ATAC anndata as well as precomputed insilico-chipseq matrix and peak-gene distances"
   ]
  },
  {
   "cell_type": "code",
   "execution_count": null,
   "id": "6372ef61-c368-4810-b25a-0c0f3fc24a1e",
   "metadata": {},
   "outputs": [],
   "source": [
    "rna_metacell, atac_metacell, gene_peak_dist, insilico_act, insilico_rep = (\n",
    "    load_scdori_inputs(trainConfig)\n",
    ")\n",
    "gene_peak_fixed = gene_peak_dist.clone()\n",
    "gene_peak_fixed[gene_peak_fixed > 0] = 1  # mask for peak-gene links based on distance"
   ]
  },
  {
   "cell_type": "markdown",
   "id": "dc33a2f8",
   "metadata": {},
   "source": [
    "## 2. computing indices of genes which are TFs and setting number of cells per metacell ( set to 1 for single cell data)"
   ]
  },
  {
   "cell_type": "code",
   "execution_count": 4,
   "id": "9b964f1e-e99c-45e2-9ab4-6053f1f40fac",
   "metadata": {},
   "outputs": [],
   "source": [
    "# computing indices of genes which are TFs and setting number of cells per metacell ( set to 1 for single cell data)\n",
    "rna_metacell.obs[\"num_cells\"] = 1\n",
    "rna_metacell.var[\"index_int\"] = range(rna_metacell.shape[1])\n",
    "tf_indices = rna_metacell.var[rna_metacell.var.gene_type == \"TF\"].index_int.values\n",
    "num_cells = rna_metacell.obs.num_cells.values.reshape((-1, 1))"
   ]
  },
  {
   "cell_type": "markdown",
   "id": "cbcbcdbc",
   "metadata": {},
   "source": [
    "## 3. onehot encoding the batch column for entire dataset"
   ]
  },
  {
   "cell_type": "code",
   "execution_count": null,
   "id": "c0383360-4a99-4e2e-b7a5-ca989d612f78",
   "metadata": {},
   "outputs": [],
   "source": [
    "batch_col = trainConfig.batch_col\n",
    "rna_metacell.obs[\"batch\"] = rna_metacell.obs[batch_col].values\n",
    "atac_metacell.obs[\"batch\"] = atac_metacell.obs[batch_col].values\n",
    "# obtaining onehot encoding for technical batch,\n",
    "from sklearn.preprocessing import OneHotEncoder\n",
    "\n",
    "enc = OneHotEncoder(handle_unknown=\"ignore\")\n",
    "enc.fit(rna_metacell.obs[\"batch\"].values.reshape(-1, 1))\n",
    "\n",
    "onehot_batch = enc.transform(rna_metacell.obs[\"batch\"].values.reshape(-1, 1)).toarray()\n",
    "enc.categories_"
   ]
  },
  {
   "cell_type": "markdown",
   "id": "014ecac3",
   "metadata": {},
   "source": [
    "## 4. making train and evaluation datasets"
   ]
  },
  {
   "cell_type": "code",
   "execution_count": 6,
   "id": "1abdd3d9-6180-4e28-bc84-54544c40d071",
   "metadata": {},
   "outputs": [],
   "source": [
    "# 2) Make small train/test sets\n",
    "n_cells = rna_metacell.n_obs\n",
    "indices = np.arange(n_cells)\n",
    "train_idx, eval_idx = train_test_split(indices, test_size=0.2, random_state=42)\n",
    "train_dataset = TensorDataset(torch.from_numpy(train_idx))\n",
    "train_loader = DataLoader(\n",
    "    train_dataset, batch_size=trainConfig.batch_size_cell, shuffle=True\n",
    ")\n",
    "\n",
    "eval_dataset = TensorDataset(torch.from_numpy(eval_idx))\n",
    "eval_loader = DataLoader(\n",
    "    eval_dataset, batch_size=trainConfig.batch_size_cell, shuffle=False\n",
    ")"
   ]
  },
  {
   "cell_type": "markdown",
   "id": "e73bfe64",
   "metadata": {},
   "source": [
    "## 5. Build scDoRI model using parameters from config file"
   ]
  },
  {
   "cell_type": "code",
   "execution_count": 7,
   "id": "26049c26-48a3-46ac-b830-5d32bc76586f",
   "metadata": {},
   "outputs": [],
   "source": [
    "num_genes = rna_metacell.n_vars\n",
    "num_peaks = atac_metacell.n_vars\n",
    "\n",
    "num_tfs = insilico_act.shape[1]\n",
    "\n",
    "num_batches = onehot_batch.shape[1]\n",
    "model = scDoRI(\n",
    "    device=device,\n",
    "    num_genes=num_genes,\n",
    "    num_peaks=num_peaks,\n",
    "    num_tfs=num_tfs,\n",
    "    num_topics=trainConfig.num_topics,\n",
    "    num_batches=num_batches,\n",
    "    dim_encoder1=trainConfig.dim_encoder1,\n",
    "    dim_encoder2=trainConfig.dim_encoder2,\n",
    ").to(device)"
   ]
  },
  {
   "cell_type": "markdown",
   "id": "1caed7cf",
   "metadata": {},
   "source": [
    "## 6. initialising scDoRI model with precomputed matrices and setting gradients \n",
    "\n",
    "initialising with precomputed insilico-chipseq matrices and distance dependent peak-gene links\n",
    "\n",
    "also setting corresponding gradients for TF-gene links to False as they are not updated in Phase 1 of training"
   ]
  },
  {
   "cell_type": "code",
   "execution_count": null,
   "id": "cfa89b3f-2700-45b6-851f-770792f8ea2b",
   "metadata": {},
   "outputs": [],
   "source": [
    "initialize_scdori_parameters(\n",
    "    model,\n",
    "    gene_peak_dist.to(device),\n",
    "    gene_peak_fixed.to(device),\n",
    "    insilico_act=insilico_act.to(device),\n",
    "    insilico_rep=insilico_rep.to(device),\n",
    "    phase=\"warmup\",\n",
    ")"
   ]
  },
  {
   "cell_type": "markdown",
   "id": "037c1059",
   "metadata": {},
   "source": [
    "#### Train Phase 1 of scDoRI model \n",
    "\n",
    "here topics are inferred using reconstruction of ATAC peaks (module 1), reconstruction of RNA from predicted ATAC (module 2) and reconstruction of TF expression (module 3)\n",
    "\n",
    "Warmup start is used where only module 1 and module 3 are trained for some initial epochs before adding module 2 "
   ]
  },
  {
   "cell_type": "code",
   "execution_count": null,
   "id": "84fade36-7b1f-4295-8052-1cbd70ea1ff8",
   "metadata": {},
   "outputs": [],
   "source": [
    "model = train_scdori_phases(\n",
    "    model,\n",
    "    device,\n",
    "    train_loader,\n",
    "    eval_loader,\n",
    "    rna_metacell,\n",
    "    atac_metacell,\n",
    "    num_cells,\n",
    "    tf_indices,\n",
    "    onehot_batch,\n",
    "    config,\n",
    ")"
   ]
  },
  {
   "cell_type": "code",
   "execution_count": null,
   "id": "ef80adbb-9dba-40e5-a2c0-96c328b06527",
   "metadata": {},
   "outputs": [],
   "source": [
    "# saving the model weight correspoinding to final epoch where model stopped training\n",
    "save_model_weights(model, Path(traintrainConfig.weights_folder_scdori), \"scdori_final\")"
   ]
  },
  {
   "cell_type": "markdown",
   "id": "39ee8a70",
   "metadata": {},
   "source": [
    "#### Train Phase 2 of scDoRI model \n",
    "here activator and repressor TF-gene links per topic are inferred (module 4)\n",
    "\n",
    "optionally the encoder and other model parameters from module 1,2,3 are frozen for stability"
   ]
  },
  {
   "cell_type": "markdown",
   "id": "e7890e7d",
   "metadata": {},
   "source": [
    "## 7. Load best checkpoint from Phase 1"
   ]
  },
  {
   "cell_type": "code",
   "execution_count": null,
   "id": "74b8e106-df35-4862-bb24-2a7b6ca628be",
   "metadata": {},
   "outputs": [],
   "source": [
    "# Phase 2\n",
    "\n",
    "# loading the best checkpoint from Phase 1\n",
    "model = load_best_model(\n",
    "    model, Path(trainConfig.weights_folder_scdori) / \"best_scdori_best_eval.pth\", device\n",
    ")"
   ]
  },
  {
   "cell_type": "markdown",
   "id": "8516b59a",
   "metadata": {},
   "source": [
    "## 8. Set gradients for Phase 2 training\n",
    "\n",
    "TF-gene links are learnt in this step"
   ]
  },
  {
   "cell_type": "code",
   "execution_count": null,
   "id": "a1095ef4-5b07-495e-9276-1472af453d81",
   "metadata": {},
   "outputs": [],
   "source": [
    "initialize_scdori_parameters(\n",
    "    model,\n",
    "    gene_peak_dist,\n",
    "    gene_peak_fixed,\n",
    "    insilico_act=insilico_act,\n",
    "    insilico_rep=insilico_rep,\n",
    "    phase=\"grn\",\n",
    ")"
   ]
  },
  {
   "cell_type": "markdown",
   "id": "3db9e378",
   "metadata": {},
   "source": [
    "## 9. Phase 2 training and saving model weights\n"
   ]
  },
  {
   "cell_type": "code",
   "execution_count": null,
   "id": "57eb6923-872e-4f2a-9382-0f4ec06e2693",
   "metadata": {},
   "outputs": [],
   "source": [
    "# train Phase 2 of scDoRI model, TF-gene links are learnt in this phase and used to reconstruct gene-expression profiles\n",
    "model = train_model_grn(\n",
    "    model,\n",
    "    device,\n",
    "    train_loader,\n",
    "    eval_loader,\n",
    "    rna_metacell,\n",
    "    atac_metacell,\n",
    "    num_cells,\n",
    "    tf_indices,\n",
    "    onehot_batch,\n",
    "    trainConfig,\n",
    ")"
   ]
  },
  {
   "cell_type": "code",
   "execution_count": null,
   "id": "16da32bc-24d4-4a6f-86d9-179dda0f2583",
   "metadata": {},
   "outputs": [],
   "source": [
    "# saving the model weight correspoinding to final epoch where model stopped training\n",
    "save_model_weights(model, Path(trainConfig.weights_folder_grn), \"scdori_final\")"
   ]
  },
  {
   "cell_type": "markdown",
   "id": "ae09b9e4-3ab3-43e7-b7fd-e3df7e14f2d8",
   "metadata": {},
   "source": [
    "#### Downstream analysis\n",
    "\n",
    "scDoRI supports a comprehensive suite of downstream analyses for single-cell multiome RNA-ATAC data. These include dimensionality reduction using latent topics, identification of gene and peak programs associated with each topic, inference of enhancer–gene interactions, and construction of topic-specific transcription factor–gene regulatory networks (GRNs).\n",
    "\n",
    "We demonstrate these capabilities using the mouse gastrulation dataset from https://www.biorxiv.org/content/10.1101/2022.06.15.496239v1"
   ]
  },
  {
   "cell_type": "code",
   "execution_count": null,
   "id": "0eb62f83-5b3f-4dcf-9e7c-b585900de0a0",
   "metadata": {},
   "outputs": [],
   "source": [
    "from scdori.downstream import (\n",
    "    load_best_model,\n",
    "    compute_neighbors_umap,\n",
    "    compute_topic_peak_umap,\n",
    "    compute_topic_gene_matrix,\n",
    "    compute_atac_grn_activator_with_significance,\n",
    "    compute_atac_grn_repressor_with_significance,\n",
    "    compute_significant_grn,\n",
    "    visualize_downstream_targets,\n",
    "    plot_topic_activation_heatmap,\n",
    "    get_top_activators_per_topic,\n",
    "    get_top_repressor_per_topic,\n",
    "    compute_activator_tf_activity_per_cell,\n",
    "    compute_repressor_tf_activity_per_cell,\n",
    "    save_regulons,\n",
    ")\n",
    "from scdori.evaluation import get_latent_topics\n",
    "import scanpy as sc\n",
    "import seaborn as sns\n",
    "import matplotlib.pyplot as plt\n",
    "import pandas as pd\n",
    "from sklearn.preprocessing import MinMaxScaler\n",
    "import scipy\n",
    "from scdori.train_grn import get_tf_expression"
   ]
  },
  {
   "cell_type": "markdown",
   "id": "947cde6d-114e-4e78-bafd-867374d68ae0",
   "metadata": {},
   "source": [
    "## 10. Load best checkpoint model"
   ]
  },
  {
   "cell_type": "code",
   "execution_count": null,
   "id": "28f2d1bf-1c7f-4da3-8c34-b9ed2713613a",
   "metadata": {},
   "outputs": [],
   "source": [
    "model = load_best_model(\n",
    "    model, Path(trainConfig.weights_folder_grn) / \"best_scdori_best_eval.pth\", device\n",
    ")"
   ]
  },
  {
   "cell_type": "markdown",
   "id": "4a25174f-aae9-4e73-b185-12e5c5073385",
   "metadata": {},
   "source": [
    "## 11. Computing and visualising latent topic activity per cell"
   ]
  },
  {
   "cell_type": "code",
   "execution_count": null,
   "id": "33d90ded-5e0c-4f3e-abc3-875b680bf847",
   "metadata": {},
   "outputs": [],
   "source": [
    "# creating dataloader for all cells\n",
    "n_cells = rna_metacell.n_obs\n",
    "indices = np.arange(n_cells)\n",
    "\n",
    "all_dataset = TensorDataset(torch.from_numpy(indices))\n",
    "all_dataset_loader = DataLoader(\n",
    "    all_dataset, batch_size=trainConfig.batch_size_cell_prediction, shuffle=False\n",
    ")"
   ]
  },
  {
   "cell_type": "code",
   "execution_count": null,
   "id": "f76db7c0-9720-4a8a-9a08-c1f5dffc2225",
   "metadata": {},
   "outputs": [],
   "source": [
    "# get scDoRI latent embedding (topics)\n",
    "scdori_latent = get_latent_topics(\n",
    "    model,\n",
    "    device,\n",
    "    all_dataset_loader,\n",
    "    rna_metacell,\n",
    "    atac_metacell,\n",
    "    num_cells,\n",
    "    tf_indices,\n",
    "    onehot_batch,\n",
    ")"
   ]
  },
  {
   "cell_type": "code",
   "execution_count": null,
   "id": "7279bec5-f424-4d9c-9518-30767a14ae8f",
   "metadata": {},
   "outputs": [],
   "source": [
    "# adding scDoRI embedding to the anndata object\n",
    "rna_metacell.obsm[\"X_scdori\"] = scdori_latent"
   ]
  },
  {
   "cell_type": "code",
   "execution_count": null,
   "id": "63d48f67-4fad-41e5-96f1-97a5d4674a10",
   "metadata": {},
   "outputs": [],
   "source": [
    "## adding color palette\n",
    "colPalette_celltypes = [\n",
    "    \"#532C8A\",\n",
    "    \"#c19f70\",\n",
    "    \"#f9decf\",\n",
    "    \"#c9a997\",\n",
    "    \"#B51D8D\",\n",
    "    \"#3F84AA\",\n",
    "    \"#9e6762\",\n",
    "    \"#354E23\",\n",
    "    \"#F397C0\",\n",
    "    \"#ff891c\",\n",
    "    \"#635547\",\n",
    "    \"#C72228\",\n",
    "    \"#f79083\",\n",
    "    \"#EF4E22\",\n",
    "    \"#989898\",\n",
    "    \"#7F6874\",\n",
    "    \"#8870ad\",\n",
    "    \"#647a4f\",\n",
    "    \"#EF5A9D\",\n",
    "    \"#FBBE92\",\n",
    "    \"#139992\",\n",
    "    \"#cc7818\",\n",
    "    \"#DFCDE4\",\n",
    "    \"#8EC792\",\n",
    "    \"#C594BF\",\n",
    "    \"#C3C388\",\n",
    "    \"#0F4A9C\",\n",
    "    \"#FACB12\",\n",
    "    \"#8DB5CE\",\n",
    "    \"#1A1A1A\",\n",
    "    \"#C9EBFB\",\n",
    "    \"#DABE99\",\n",
    "    \"#65A83E\",\n",
    "    \"#005579\",\n",
    "    \"#CDE088\",\n",
    "    \"#f7f79e\",\n",
    "    \"#F6BFCB\",\n",
    "]\n",
    "\n",
    "cell_type_sorted = sorted(list(set(rna_metacell.obs[\"celltype\"].values)))\n",
    "\n",
    "color_dict = dict(zip(cell_type_sorted, colPalette_celltypes))\n",
    "\n",
    "col_sorted = []\n",
    "for i in sorted(cell_type_sorted):\n",
    "    col_sorted.append(color_dict[i])\n",
    "\n",
    "rna_metacell.uns[\"celltype_colors\"] = col_sorted\n",
    "# rna_metacell.uns['celltype_plot_colors']= col_sorted\n",
    "# rna_ad_tl.uns['celltype_colors']= col_sorted"
   ]
  },
  {
   "cell_type": "code",
   "execution_count": null,
   "id": "5379d6b3-c69f-4a3e-b739-490c859e8f14",
   "metadata": {},
   "outputs": [],
   "source": [
    "# computing neighbourhood graph and UMAP based on scDoRI embedding, UMAP parameters can be set in config file\n",
    "compute_neighbors_umap(rna_metacell, rep_key=\"X_scdori\")"
   ]
  },
  {
   "cell_type": "code",
   "execution_count": null,
   "id": "c3447262-8a04-48a5-82a1-d599b7046c34",
   "metadata": {},
   "outputs": [],
   "source": [
    "# visualing cell-types on scDoRI computed UMAP\n",
    "sns.set(font_scale=0.3)\n",
    "sns.set_style(\"whitegrid\")\n",
    "with plt.rc_context({\"figure.figsize\": (7, 7), \"figure.dpi\": (200)}):\n",
    "    sc.pl.umap(\n",
    "        rna_metacell,\n",
    "        color=[\"celltype\"],\n",
    "        add_outline=True,\n",
    "        outline_color=(\"white\", \"black\"),\n",
    "        size=10,\n",
    "    )"
   ]
  },
  {
   "cell_type": "markdown",
   "id": "da22fc1e-7559-4b59-9b2c-498f226c2935",
   "metadata": {},
   "source": [
    "## 12. Computing average topic activation in different celltypes/groups\n"
   ]
  },
  {
   "cell_type": "code",
   "execution_count": null,
   "id": "2c31ae44-ba1b-43ea-8b6b-2f669629a5ae",
   "metadata": {},
   "outputs": [],
   "source": [
    "df_topic_celltype = plot_topic_activation_heatmap(\n",
    "    rna_metacell, groupby_key=[\"celltype\"], aggregation=\"mean\"\n",
    ")"
   ]
  },
  {
   "cell_type": "code",
   "execution_count": null,
   "id": "ddcd39cb-39cc-48f8-b19f-08416a4f6500",
   "metadata": {},
   "outputs": [],
   "source": [
    "sns.histplot(df_topic_celltype.max(axis=1))"
   ]
  },
  {
   "cell_type": "code",
   "execution_count": null,
   "id": "0288bedc-aa3b-4c87-9286-436922abc3b7",
   "metadata": {},
   "outputs": [],
   "source": [
    "# removing topics not active highly in any of the celltypes\n",
    "select_topics = [\n",
    "    \"Topic_\" + str(k) for k in np.where(df_topic_celltype.max(axis=1) > 0.06)[0]\n",
    "]"
   ]
  },
  {
   "cell_type": "code",
   "execution_count": null,
   "id": "bc7b9c4b-eb81-425a-94de-4d51a9510ada",
   "metadata": {},
   "outputs": [],
   "source": [
    "len(select_topics)"
   ]
  },
  {
   "cell_type": "code",
   "execution_count": null,
   "id": "ba26afac-2de3-47bc-8e2a-1273a2c2a6e3",
   "metadata": {},
   "outputs": [],
   "source": [
    "# masking low activations and removing topics not active\n",
    "%matplotlib inline\n",
    "sns.set(font_scale=0.4)\n",
    "sns.clustermap(\n",
    "    df_topic_celltype.loc[select_topics],\n",
    "    cmap=\"Greens\",\n",
    "    vmin=0.05,\n",
    "    vmax=0.4,\n",
    "    figsize=(10, 10),\n",
    ")"
   ]
  },
  {
   "cell_type": "markdown",
   "id": "abb34ecf-5d59-4964-b8d4-0de22fa5140a",
   "metadata": {},
   "source": [
    "## 13. single cell level visualisation of scDoRI Topics\n",
    "\n",
    "In Erythroid Trajectory from Blood Progenitors to Mature Erythroids: We can see that Topic 26 is active in progenitors whereas topic 4 and 9 capture a continuum of erythroid and progenitor programs along the trajectory\n",
    "\n",
    "In transition of bipotent progenitors NMP (Neuromesodermal progenitors) to spinal cord or mesodermal lineage: We can see that Topic 34 and 7 capture transition to mesoderm and spinal cord respectively\n"
   ]
  },
  {
   "cell_type": "code",
   "execution_count": null,
   "id": "4f4187f1-4349-45d8-a88d-8f1c48ada5b6",
   "metadata": {},
   "outputs": [],
   "source": [
    "for k in range(trainConfig.num_topics):\n",
    "    rna_metacell.obs[\"Topic_\" + str(k)] = scdori_latent[:, k]"
   ]
  },
  {
   "cell_type": "code",
   "execution_count": null,
   "id": "063a5b7f-4396-4af2-aac5-3ff97fdd5430",
   "metadata": {},
   "outputs": [],
   "source": [
    "sns.set(font_scale=0.8)\n",
    "sns.set_style(\"whitegrid\")\n",
    "\n",
    "\n",
    "with plt.rc_context({\"figure.figsize\": (5, 5), \"figure.dpi\": (150)}):\n",
    "    sc.pl.umap(\n",
    "        rna_metacell,\n",
    "        color=[\"celltype\", \"Topic_26\", \"Topic_4\", \"Topic_9\"],\n",
    "        add_outline=True,\n",
    "        outline_color=(\"white\", \"black\"),\n",
    "        size=10,\n",
    "        legend_loc=\"none\",\n",
    "    )"
   ]
  },
  {
   "cell_type": "code",
   "execution_count": null,
   "id": "99ed6424-7301-4024-bbab-acf801dbf45f",
   "metadata": {},
   "outputs": [],
   "source": [
    "# visualising NMP transitions to Mesoderm [Topic 34] and Spinal Cord [Topic 7] Trajectory\n",
    "sns.set(font_scale=0.8)\n",
    "sns.set_style(\"whitegrid\")\n",
    "\n",
    "celltype_plot_list = [\n",
    "    \"Mixed_mesoderm\",\n",
    "    \"Somitic_mesoderm\",\n",
    "    \"Nascent_mesoderm\",\n",
    "    \"Intermediate_mesoderm\",\n",
    "    \"Forebrain_Midbrain_Hindbrain\",\n",
    "    \"Spinal_cord\",\n",
    "    \"Caudal_Mesoderm\",\n",
    "    \"NMP\",\n",
    "    \"ExE_mesoderm\",\n",
    "    \"Allantois\",\n",
    "]\n",
    "adata_plot = rna_metacell[rna_metacell.obs.celltype.isin(celltype_plot_list), :]\n",
    "\n",
    "with plt.rc_context({\"figure.figsize\": (5, 5), \"figure.dpi\": (100)}):\n",
    "    sc.pl.umap(\n",
    "        adata_plot,\n",
    "        color=[\"celltype\", \"Topic_34\", \"Topic_7\"],\n",
    "        add_outline=True,\n",
    "        outline_color=(\"white\", \"black\"),\n",
    "        size=10,\n",
    "    )"
   ]
  },
  {
   "cell_type": "markdown",
   "id": "f3d167f2",
   "metadata": {},
   "source": [
    "## 14. Computing Top genes per topic \n",
    "\n",
    "this can be used for further analysis such as gene-set enrichment\n"
   ]
  },
  {
   "cell_type": "code",
   "execution_count": null,
   "id": "bb0dcc06-b88e-4aa0-914a-8125bdcc3c3b",
   "metadata": {},
   "outputs": [],
   "source": [
    "topic_gene_embedding = compute_topic_gene_matrix(model, device)"
   ]
  },
  {
   "cell_type": "code",
   "execution_count": null,
   "id": "a0ef1252-15f9-49b8-8d89-44ea05259974",
   "metadata": {},
   "outputs": [],
   "source": [
    "sns.clustermap(topic_gene_embedding, vmax=0.01)"
   ]
  },
  {
   "cell_type": "markdown",
   "id": "fb23f5be",
   "metadata": {},
   "source": [
    "## 15. Performing gene-set enrichment analysis on each topic\n",
    "\n",
    "adapted from https://decoupler-py.readthedocs.io/en/latest/notebooks/msigdb.html#MSigDB-gene-sets\n",
    "\n",
    "users can play around with other gene sets of their choice\n"
   ]
  },
  {
   "cell_type": "code",
   "execution_count": null,
   "id": "29760d97-7ebf-4ef8-96ff-05dccaea28fc",
   "metadata": {},
   "outputs": [],
   "source": [
    "#!pip install decoupler\n",
    "### caution! this can create dependency issues in the conda environment"
   ]
  },
  {
   "cell_type": "code",
   "execution_count": null,
   "id": "8804d6a7-5b2b-45e1-b2e6-3fb406ce8699",
   "metadata": {},
   "outputs": [],
   "source": [
    "#!pip install liana"
   ]
  },
  {
   "cell_type": "code",
   "execution_count": null,
   "id": "18c1b3ef-8012-4946-99b6-095d664f25da",
   "metadata": {},
   "outputs": [],
   "source": [
    "import decoupler as dc"
   ]
  },
  {
   "cell_type": "code",
   "execution_count": null,
   "id": "9a97978f-afbf-43e9-a8df-ac34a600cd8c",
   "metadata": {},
   "outputs": [],
   "source": [
    "# anndata with topic gene values\n",
    "adata_gene = sc.AnnData(topic_gene_embedding)\n",
    "adata_gene.obs.index = [\"Topic_\" + str(i) for i in range(model.num_topics)]\n",
    "adata_gene.var.index = [\n",
    "    s.upper() for s in rna_metacell.var.index\n",
    "]  # dirty and incorrect hack to convert mouse gene names to human\n",
    "adata_gene.raw = adata_gene"
   ]
  },
  {
   "cell_type": "code",
   "execution_count": null,
   "id": "d3fd723e-99fe-4a31-b92c-6668bf5c97a3",
   "metadata": {},
   "outputs": [],
   "source": [
    "# using msigdb\n",
    "msigdb = dc.get_resource(\"MSigDB\")"
   ]
  },
  {
   "cell_type": "code",
   "execution_count": null,
   "id": "435f0792-881f-42ae-b532-13a1869a9ff3",
   "metadata": {},
   "outputs": [],
   "source": [
    "msigdb[\"collection\"].unique()"
   ]
  },
  {
   "cell_type": "code",
   "execution_count": null,
   "id": "543a634e-9be4-4b97-9fbf-fff2b5bd2e39",
   "metadata": {},
   "outputs": [],
   "source": [
    "# using msigdb celltype signature set\n",
    "msigdb = dc.get_resource(\"MSigDB\")\n",
    "# Filter by hallmark\n",
    "msigdb = msigdb[msigdb[\"collection\"] == \"cell_type_signatures\"]\n",
    "\n",
    "# Remove duplicated entries\n",
    "msigdb = msigdb[~msigdb.duplicated([\"geneset\", \"genesymbol\"])]\n",
    "msigdb"
   ]
  },
  {
   "cell_type": "code",
   "execution_count": null,
   "id": "2ea00a30-1e37-4eb4-9400-1036ff1f4242",
   "metadata": {},
   "outputs": [],
   "source": [
    "dc.run_ora(\n",
    "    mat=adata_gene, net=msigdb, source=\"geneset\", target=\"genesymbol\", verbose=True\n",
    ")"
   ]
  },
  {
   "cell_type": "code",
   "execution_count": null,
   "id": "1f91e230-53d8-4637-893a-4cfdd390c782",
   "metadata": {},
   "outputs": [],
   "source": [
    "acts = dc.get_acts(adata_gene, obsm_key=\"ora_estimate\")\n",
    "\n",
    "# We need to remove inf and set them to the maximum value observed\n",
    "acts_v = acts.X.ravel()\n",
    "max_e = np.nanmax(acts_v[np.isfinite(acts_v)])\n",
    "acts.X[~np.isfinite(acts.X)] = max_e\n",
    "\n",
    "acts"
   ]
  },
  {
   "cell_type": "code",
   "execution_count": null,
   "id": "b076da35-7508-49e5-ac07-b1eea25af7af",
   "metadata": {},
   "outputs": [],
   "source": [
    "# plot top celltype signatures per topic\n",
    "df_acts = acts.to_df()\n",
    "top_programs_per_topic = df_acts.idxmax(axis=1)\n",
    "unique_top_programs = top_programs_per_topic.unique()\n",
    "df_topic_program = df_acts.loc[:, unique_top_programs]"
   ]
  },
  {
   "cell_type": "code",
   "execution_count": null,
   "id": "e6f5fdfa-22b7-4c19-a452-174024216d12",
   "metadata": {},
   "outputs": [],
   "source": [
    "sns.set(font_scale=1)\n",
    "sns.clustermap(df_topic_program.loc[select_topics], figsize=(30, 30))"
   ]
  },
  {
   "cell_type": "markdown",
   "id": "3344c76d-7390-4707-a289-37ee2f59a21e",
   "metadata": {},
   "source": [
    "###### \n",
    "we can see enrichments of respective celltype programs in different topics such Cardiomycoyte in topic 25, Erythroblast in topic 9, Liver hepatoblasts topic 19 "
   ]
  },
  {
   "cell_type": "markdown",
   "id": "40e41026",
   "metadata": {},
   "source": [
    "## 16. Computing and visualising peaks associated with each topic\n",
    "\n",
    "peaks associated with a topic should capture co-accesibility patterns\n",
    "\n",
    "we visualise average accesibility of peaks (on a UMAP) in different celltypes and their association to a topic, to see if topics have captured co-accesibility patterns. Each point on the UMAP is a peak."
   ]
  },
  {
   "cell_type": "code",
   "execution_count": null,
   "id": "113221b2-a119-4784-9a07-b4bfac323694",
   "metadata": {},
   "outputs": [],
   "source": [
    "umap_embedding_peaks, topic_peak_embedding = compute_topic_peak_umap(model, device)"
   ]
  },
  {
   "cell_type": "code",
   "execution_count": null,
   "id": "1352bcb8-7336-495f-a8d7-6f784db0088f",
   "metadata": {},
   "outputs": [],
   "source": [
    "## creating anndata with observations as peaks and values as topic association of each peak\n",
    "adata_peak = sc.AnnData(topic_peak_embedding)\n",
    "adata_peak.var.index = [\"Topic_\" + str(i) for i in range(model.num_topics)]\n",
    "adata_peak.obs.index = atac_metacell.var.index\n",
    "adata_peak.obsm[\"X_umap\"] = umap_embedding_peaks"
   ]
  },
  {
   "cell_type": "code",
   "execution_count": null,
   "id": "413e6e6c-d1a6-46cd-974d-4a19401b8c6b",
   "metadata": {},
   "outputs": [],
   "source": [
    "atac_metacell.obs[\"celltype\"] = rna_metacell.obs[\"celltype\"].copy()"
   ]
  },
  {
   "cell_type": "code",
   "execution_count": null,
   "id": "c99e42b0-0e2c-4705-81f2-4d649699ce99",
   "metadata": {},
   "outputs": [],
   "source": [
    "# computing average accesiblity of peaks in each celltype\n",
    "atac_metacell.layers[\"counts\"] = atac_metacell.X\n",
    "sc.pp.normalize_total(atac_metacell)\n",
    "aggregated_atac = sc.get.aggregate(atac_metacell, by=\"celltype\", func=[\"mean\"])\n",
    "aggregated_atac.X = aggregated_atac.layers[\"mean\"]\n",
    "sc.pp.normalize_total(aggregated_atac)\n",
    "sc.pp.scale(aggregated_atac)\n",
    "\n",
    "# adding average accesibility of each peak in a celltype to peak anndata\n",
    "peak_celltype_df = aggregated_atac.to_df().T\n",
    "peak_celltype_df = peak_celltype_df.loc[adata_peak.obs.index.values]\n",
    "adata_peak.obs = pd.concat([adata_peak.obs, peak_celltype_df], axis=1)"
   ]
  },
  {
   "cell_type": "code",
   "execution_count": null,
   "id": "e7bb9c71-be9e-41b4-bd39-9b7f5a703c96",
   "metadata": {},
   "outputs": [],
   "source": [
    "celltype_name = \"Erythroid1\"\n",
    "sns.set(font_scale=1.5)\n",
    "sc.pl.umap(\n",
    "    adata_peak, color=[celltype_name, \"Topic_9\", \"Topic_4\"], cmap=\"RdBu_r\"\n",
    ")  # topic 9 and 4 are active in erythroids from heatmap above"
   ]
  },
  {
   "cell_type": "code",
   "execution_count": null,
   "id": "55d66c05-903c-4733-b6fa-fbfc2ef82251",
   "metadata": {},
   "outputs": [],
   "source": [
    "celltype_name = \"NMP\"\n",
    "sns.set(font_scale=1.5)\n",
    "sc.pl.umap(adata_peak, color=[celltype_name, \"Topic_34\", \"Topic_7\"], cmap=\"RdBu_r\")"
   ]
  },
  {
   "cell_type": "code",
   "execution_count": null,
   "id": "719764c7-7868-42a5-b9f4-42463f38a511",
   "metadata": {},
   "outputs": [],
   "source": [
    "celltype_name = \"Spinal_cord\"\n",
    "sns.set(font_scale=1.5)\n",
    "sc.pl.umap(adata_peak, color=[celltype_name, \"Topic_7\"], cmap=\"RdBu_r\")"
   ]
  },
  {
   "cell_type": "code",
   "execution_count": null,
   "id": "1b34f30a-b316-4856-92e2-3707230435f1",
   "metadata": {},
   "outputs": [],
   "source": [
    "celltype_name = \"Cardiomyocytes\"\n",
    "sns.set(font_scale=1.5)\n",
    "sc.pl.umap(adata_peak, color=[celltype_name, \"Topic_25\"], cmap=\"RdBu_r\")"
   ]
  },
  {
   "cell_type": "markdown",
   "id": "9fa40bfc",
   "metadata": {},
   "source": [
    "## 17. Visualising TF binding scores on peaks"
   ]
  },
  {
   "cell_type": "code",
   "execution_count": null,
   "id": "160ce57d-8a40-4ae8-905a-58d988b0319f",
   "metadata": {},
   "outputs": [],
   "source": [
    "## adding insilico chipseq embeddings to peak anndata\n",
    "\n",
    "\n",
    "tf_names = rna_metacell.var[rna_metacell.var.gene_type == \"TF\"].index.values\n",
    "\n",
    "# Create a dictionary for activator and repressor insilico-chipseq binding score\n",
    "tf_binding_data = {\n",
    "    tf_name + \"_activator_binding\": insilico_act[:, i].numpy()\n",
    "    for i, tf_name in enumerate(tf_names)\n",
    "}\n",
    "tf_binding_data.update(\n",
    "    {\n",
    "        tf_name + \"_repressor_binding\": np.abs(insilico_rep[:, i].numpy())\n",
    "        for i, tf_name in enumerate(tf_names)\n",
    "    }\n",
    ")\n",
    "\n",
    "# Convert the dictionary to a DataFrame\n",
    "tf_binding_data_df = pd.DataFrame(tf_binding_data, index=adata_peak.obs.index)\n",
    "\n",
    "# Concatenate new columns with existing obs"
   ]
  },
  {
   "cell_type": "code",
   "execution_count": null,
   "id": "db74a2ed-ece7-4d1f-bc31-d59cb325a4e4",
   "metadata": {},
   "outputs": [],
   "source": [
    "adata_peak.obs = pd.concat([adata_peak.obs, tf_binding_data_df], axis=1)\n",
    "adata_peak.obs = tf_binding_data_df"
   ]
  },
  {
   "cell_type": "code",
   "execution_count": null,
   "id": "0d22365e-0a8c-4b74-841a-9a58d2475836",
   "metadata": {},
   "outputs": [],
   "source": [
    "# visualsing TF binding scores on peak umap\n",
    "sns.set(font_scale=1.5)\n",
    "\n",
    "with plt.rc_context({\"figure.figsize\": (6, 6), \"figure.dpi\": (200)}):\n",
    "    sc.pl.umap(\n",
    "        adata_peak,\n",
    "        color=[\n",
    "            \"Tbx5_activator_binding\",\n",
    "            \"Gata1_activator_binding\",\n",
    "            \"Ets1_activator_binding\",\n",
    "            \"Sox2_activator_binding\",\n",
    "            \"Hnf4a_activator_binding\",\n",
    "        ],\n",
    "        cmap=\"Greens\",\n",
    "        vmin=0.1,\n",
    "        vmax=0.8,\n",
    "        sort_order=True,\n",
    "    )"
   ]
  },
  {
   "cell_type": "markdown",
   "id": "d7198928-f120-40b8-9dbe-1923d3c4585b",
   "metadata": {},
   "source": [
    "#### Computing eGRNs"
   ]
  },
  {
   "cell_type": "markdown",
   "id": "920aa317",
   "metadata": {},
   "source": [
    "## 18. Computing ATAC based GRNs with emprirical significance \n",
    "these GRNs do not use evidence of TF-gene co-expression \n",
    "\n",
    "activator GRNs here indicate if within a topic, peaks linked to a gene have accesible binding sites for a TF (from activator insilico-chipseq scores)\n",
    "\n",
    "repressor GRNs here indicate if within a topic, peaks linked to a gene have non-accesible repressor binding sites for a TF (from repressor insilico-chipseq scores)\n",
    "\n",
    "additionally we compute a background set of GRN values by shuffling insilico-chipseq scores, which are used to compute empirical significance "
   ]
  },
  {
   "cell_type": "code",
   "execution_count": null,
   "id": "e1868309-f15a-4331-b8e3-f274b6d60461",
   "metadata": {},
   "outputs": [],
   "source": [
    "grn_act_atac = compute_atac_grn_activator_with_significance(\n",
    "    model, device, cutoff_val=0.05, outdir=\"grn_act_atac\"\n",
    ")"
   ]
  },
  {
   "cell_type": "code",
   "execution_count": null,
   "id": "a2da8e04-d027-41bc-abb4-1c93f3a880ae",
   "metadata": {},
   "outputs": [],
   "source": [
    "# ATAC based GRN for repressors\n",
    "grn_rep_atac = compute_atac_grn_repressor_with_significance(\n",
    "    model, device, cutoff_val=0.05, outdir=\"grn_act_atac\"\n",
    ")"
   ]
  },
  {
   "cell_type": "markdown",
   "id": "c57ae744",
   "metadata": {},
   "source": [
    "## 19. Computing final GRNs\n",
    "\n",
    "to compute these, we use the significant ATAC based GRNs derived previously and do element wise product with GRNs learnt by scDoRI incorproating TF - gene co-expression"
   ]
  },
  {
   "cell_type": "code",
   "execution_count": null,
   "id": "b1ed8fef-d1f4-4ff7-913e-ed0781a5f82a",
   "metadata": {},
   "outputs": [],
   "source": [
    "# calculating TF-expression per topic\n",
    "# either from scdori model weights or from true data\n",
    "# using true expression here\n",
    "tf_normalised = get_tf_expression(\n",
    "    \"True\",\n",
    "    model,\n",
    "    device,\n",
    "    all_dataset_loader,\n",
    "    rna_metacell,\n",
    "    atac_metacell,\n",
    "    num_cells,\n",
    "    tf_indices,\n",
    "    onehot_batch,\n",
    "    trainConfig,\n",
    ")"
   ]
  },
  {
   "cell_type": "code",
   "execution_count": null,
   "id": "acd79ffa-a575-4b75-8dee-acbc9c20a905",
   "metadata": {},
   "outputs": [],
   "source": [
    "tf_normalised.shape"
   ]
  },
  {
   "cell_type": "code",
   "execution_count": null,
   "id": "e8ea71f9-b929-4e4f-b9e1-1795657ee26a",
   "metadata": {},
   "outputs": [],
   "source": [
    "# compute final GRNs which use the significant ATAC based GRNs derived above\n",
    "grn_act, grn_rep = compute_significant_grn(\n",
    "    model,\n",
    "    device,\n",
    "    cutoff_val_activator=0.05,\n",
    "    cutoff_val_repressor=0.05,\n",
    "    tf_normalised=tf_normalised.detach().cpu().numpy(),\n",
    "    outdir=\"grn_act_atac\",\n",
    ")"
   ]
  },
  {
   "cell_type": "code",
   "execution_count": null,
   "id": "e894b6f2-77f5-4031-a1f3-e8b934240f63",
   "metadata": {},
   "outputs": [],
   "source": [
    "# save regulons per TF\n",
    "save_regulons(\n",
    "    grn_act,\n",
    "    tf_names=tf_names,\n",
    "    gene_names=rna_metacell.var.index.values,\n",
    "    num_topics=model.num_topics,\n",
    "    output_dir=\"grn_act_atac\",\n",
    "    mode=\"activator\",\n",
    ")"
   ]
  },
  {
   "cell_type": "code",
   "execution_count": null,
   "id": "e0fb6b97-4738-4366-a5f4-37defab2d0b2",
   "metadata": {},
   "outputs": [],
   "source": [
    "# save regulons per TF\n",
    "save_regulons(\n",
    "    grn_rep,\n",
    "    tf_names=tf_names,\n",
    "    gene_names=rna_metacell.var.index.values,\n",
    "    num_topics=model.num_topics,\n",
    "    output_dir=\"grn_act_atac\",\n",
    "    mode=\"repressor\",\n",
    ")"
   ]
  },
  {
   "cell_type": "code",
   "execution_count": null,
   "id": "c7061562-e9dc-4a72-90c2-2bc365999f2a",
   "metadata": {},
   "outputs": [],
   "source": [
    "# loading saved GRN\n",
    "grn_act = np.load(\"grn_act_atac/grn_activator__0.05.npy\")\n",
    "grn_rep = np.load(\"grn_act_atac/grn_repressor__0.05.npy\")"
   ]
  },
  {
   "cell_type": "code",
   "execution_count": null,
   "id": "a7993640-d6fb-45b9-b8c2-b87772e2ea2a",
   "metadata": {},
   "outputs": [],
   "source": [
    "grn_act.shape  # num_topics x num_tfs x num_genes"
   ]
  },
  {
   "cell_type": "markdown",
   "id": "f60604f5",
   "metadata": {},
   "source": [
    "## 20. Computing and plotting top activator TFs per topic"
   ]
  },
  {
   "cell_type": "code",
   "execution_count": null,
   "id": "5c9c92b2-74b5-42aa-9866-b6f23519f352",
   "metadata": {},
   "outputs": [],
   "source": [
    "# plotting TF activity across topics\n",
    "tf_names = rna_metacell.var[rna_metacell.var.gene_type == \"TF\"].index.values\n",
    "\n",
    "# plot top k activators per topic\n",
    "df_topic_activator, top_regulators = get_top_activators_per_topic(\n",
    "    grn_act,\n",
    "    tf_names,\n",
    "    scdori_latent,\n",
    "    selected_topics=None,\n",
    "    top_k=2,\n",
    "    clamp_value=1e-8,\n",
    "    zscore=True,\n",
    "    figsize=(25, 10),\n",
    "    out_fig=None,\n",
    ")"
   ]
  },
  {
   "cell_type": "code",
   "execution_count": null,
   "id": "d4d09b5e-353e-4b13-bc4c-8ebcb1e21801",
   "metadata": {},
   "outputs": [],
   "source": [
    "df_topic_activator  # matrix of Topic TF activities"
   ]
  },
  {
   "cell_type": "markdown",
   "id": "c8af0f04",
   "metadata": {},
   "source": [
    "## 21. Computing and plotting TF activity per cell"
   ]
  },
  {
   "cell_type": "code",
   "execution_count": null,
   "id": "bba9a994-b3b6-4a00-b668-676ac44da656",
   "metadata": {},
   "outputs": [],
   "source": [
    "# computing TF activity per cell\n",
    "cell_tf_act = compute_activator_tf_activity_per_cell(\n",
    "    grn_act,\n",
    "    tf_names,\n",
    "    scdori_latent,\n",
    "    selected_topics=None,\n",
    "    clamp_value=1e-8,\n",
    "    zscore=True,\n",
    ")"
   ]
  },
  {
   "cell_type": "code",
   "execution_count": null,
   "id": "e3be45bd-61ed-4b41-bf71-88ba930a47ff",
   "metadata": {},
   "outputs": [],
   "source": [
    "# aggregating activity per celltype\n",
    "df_celltype_tf = pd.DataFrame(cell_tf_act, columns=tf_names)\n",
    "df_celltype_tf[\"celltype\"] = rna_metacell.obs[\"celltype\"].values\n",
    "df_celltype_tf = df_celltype_tf.groupby(\"celltype\").mean()\n",
    "df_celltype_tf = df_celltype_tf.fillna(0)\n",
    "df_celltype_tf = df_celltype_tf.loc[\n",
    "    :, (df_celltype_tf != 0).any(axis=0)\n",
    "]  # removing TF with 0/Nan activity"
   ]
  },
  {
   "cell_type": "code",
   "execution_count": null,
   "id": "60178d70-1b9d-43a5-9e7d-ba1209e91629",
   "metadata": {},
   "outputs": [],
   "source": [
    "# top TFs per celltype\n",
    "for k in df_celltype_tf.index:\n",
    "    print(df_celltype_tf.loc[k].sort_values(ascending=False)[:5])"
   ]
  },
  {
   "cell_type": "code",
   "execution_count": null,
   "id": "18dd3cae-45fe-4a1e-a58b-4fd38ce7c68f",
   "metadata": {},
   "outputs": [],
   "source": [
    "sns.clustermap(df_celltype_tf, cmap=\"RdBu_r\", vmin=-4, vmax=4, figsize=(20, 15))"
   ]
  },
  {
   "cell_type": "code",
   "execution_count": null,
   "id": "cb070ba8-4258-4857-83a5-83fb60b8fcfb",
   "metadata": {},
   "outputs": [],
   "source": [
    "# visualing TF activity on UMAP\n",
    "df_cell_tf = pd.DataFrame(cell_tf_act, columns=[s + \"_activity\" for s in tf_names])\n",
    "df_cell_tf.index = rna_metacell.obs.index.values\n",
    "obs_df = pd.concat([rna_metacell.obs, df_cell_tf], axis=1)"
   ]
  },
  {
   "cell_type": "code",
   "execution_count": null,
   "id": "2c7a2cd6-906d-4410-9ae2-08aec64e7b29",
   "metadata": {},
   "outputs": [],
   "source": [
    "for k in df_cell_tf.columns:\n",
    "    rna_metacell.obs[k] = df_cell_tf[k].values"
   ]
  },
  {
   "cell_type": "code",
   "execution_count": null,
   "id": "a93693b0-dee0-4874-b01e-b486225184a1",
   "metadata": {},
   "outputs": [],
   "source": [
    "sc.pl.umap(\n",
    "    rna_metacell,\n",
    "    color=[\n",
    "        \"celltype\",\n",
    "        \"Gata1_activity\",\n",
    "        \"Sox10_activity\",\n",
    "        \"Gata6_activity\",\n",
    "        \"Ets1_activity\",\n",
    "        \"Hnf4a_activity\",\n",
    "        \"T_activity\",\n",
    "        \"Prrx1_activity\",\n",
    "        \"Tbx5_activity\",\n",
    "        \"Pou5f1_activity\",\n",
    "    ],\n",
    "    vmin=-2,\n",
    "    vmax=4,\n",
    "    cmap=\"RdBu_r\",\n",
    ")"
   ]
  },
  {
   "cell_type": "markdown",
   "id": "cf199b46",
   "metadata": {},
   "source": [
    "## 22. visualising downstream target genes of a TF"
   ]
  },
  {
   "cell_type": "code",
   "execution_count": null,
   "id": "1c60bfdc-65d5-4dc1-ac24-aeb700e4ba02",
   "metadata": {},
   "outputs": [],
   "source": [
    "tf_plot = \"Gata4\"\n",
    "\n",
    "tf_index = list(tf_names).index(tf_plot)\n",
    "tf_index"
   ]
  },
  {
   "cell_type": "code",
   "execution_count": null,
   "id": "4836ceb0-2b34-435a-a70c-f44f6cab2b53",
   "metadata": {},
   "outputs": [],
   "source": [
    "df_topic_activator[tf_plot].sort_values(ascending=False)[:5]"
   ]
  },
  {
   "cell_type": "markdown",
   "id": "fe04b8e1-9cb0-4e9c-9810-3d7678f15b05",
   "metadata": {},
   "source": [
    "##### \n",
    "since Gata4 is active in multiple topics ( and associated cellltype), we obtain different targets for it in the respective context"
   ]
  },
  {
   "cell_type": "code",
   "execution_count": null,
   "id": "d8c87379-2d51-4fcf-87da-70d11cd24848",
   "metadata": {},
   "outputs": [],
   "source": [
    "topic_num = [3, 19]  # endodermal topics\n",
    "target_gene_idx = np.where(grn_act[topic_num, tf_index, :].sum(axis=0) > 0.0)[\n",
    "    0\n",
    "]  # adjust this value to get more stringent/ strongly regulated downstream taregts\n",
    "genes_endoderm = rna_metacell.var_names[target_gene_idx]"
   ]
  },
  {
   "cell_type": "code",
   "execution_count": null,
   "id": "6b7083de-4ddb-42c8-ad83-c6643bc489d3",
   "metadata": {},
   "outputs": [],
   "source": [
    "genes_endoderm"
   ]
  },
  {
   "cell_type": "code",
   "execution_count": null,
   "id": "26620136-73b4-45ad-8eb1-612bd08022de",
   "metadata": {},
   "outputs": [],
   "source": [
    "topic_num = [25]  # cardiomyocyte specific topic\n",
    "target_gene_idx = np.where(grn_act[topic_num, tf_index, :].sum(axis=0) > 0.0)[0]\n",
    "genes_cardiomyocytes = rna_metacell.var_names[target_gene_idx]"
   ]
  },
  {
   "cell_type": "code",
   "execution_count": null,
   "id": "66684bbc-19f9-4c00-895a-c23682492841",
   "metadata": {},
   "outputs": [],
   "source": [
    "genes_cardiomyocytes"
   ]
  },
  {
   "cell_type": "code",
   "execution_count": null,
   "id": "cc80f8d1-7f9f-4c9f-aa7b-052988183c6a",
   "metadata": {},
   "outputs": [],
   "source": [
    "# plotting downstream expression of target genes\n",
    "rna_metacell.X = rna_metacell.layers[\"counts\"]\n",
    "# normalsing raw counts\n",
    "sc.pp.normalize_total(rna_metacell)\n",
    "sc.pp.log1p(rna_metacell)\n",
    "\n",
    "sc.tl.score_genes(rna_metacell, genes_endoderm, score_name=\"Gata4_endoderm_target\")\n",
    "sc.tl.score_genes(\n",
    "    rna_metacell, genes_cardiomyocytes, score_name=\"Gata4_cardiomyocyte_target\"\n",
    ")"
   ]
  },
  {
   "cell_type": "code",
   "execution_count": null,
   "id": "23e29d40-089c-44f6-8790-834b8b73f18f",
   "metadata": {},
   "outputs": [],
   "source": [
    "# visualing cell-types on scDoRI computed UMAP\n",
    "sns.set(font_scale=1)\n",
    "sns.set_style(\"whitegrid\")\n",
    "with plt.rc_context({\"figure.figsize\": (7, 7), \"figure.dpi\": (200)}):\n",
    "    sc.pl.umap(\n",
    "        rna_metacell,\n",
    "        color=[\n",
    "            \"celltype\",\n",
    "            \"Gata4\",\n",
    "            \"Gata4_endoderm_target\",\n",
    "            \"Gata4_cardiomyocyte_target\",\n",
    "        ],\n",
    "        add_outline=True,\n",
    "        outline_color=(\"white\", \"black\"),\n",
    "        size=10,\n",
    "        cmap=\"RdBu_r\",\n",
    "        legend_loc=None,\n",
    "    )"
   ]
  },
  {
   "cell_type": "markdown",
   "id": "b706402d-307a-416f-b9ac-3a6d39b8d822",
   "metadata": {},
   "source": [
    "##### \n",
    "we can clearly see that scDoRI finds differential downstream targets for the same TF in different contexts\n",
    "\n",
    "we can visualise the TF binding profiles to confirm that these differences are coming from chromatin differences between states"
   ]
  },
  {
   "cell_type": "code",
   "execution_count": null,
   "id": "8f694e80-1e34-4b53-b3e6-09b8f41b3f20",
   "metadata": {},
   "outputs": [],
   "source": [
    "# visualsing TF binding scores and topic values where TF is active, on peak umap\n",
    "sns.set(font_scale=1)\n",
    "# topic 3 and 19 are endoderm related and topic 25 is cardiomyocyte specific\n",
    "with plt.rc_context({\"figure.figsize\": (3, 3), \"figure.dpi\": (150)}):\n",
    "    sc.pl.umap(\n",
    "        adata_peak, color=[\"Gata4_activator_binding\"], cmap=\"Greens\", sort_order=True\n",
    "    )"
   ]
  },
  {
   "cell_type": "code",
   "execution_count": null,
   "id": "8c892bc8-628b-4e2f-9bd4-75e123c39a20",
   "metadata": {},
   "outputs": [],
   "source": [
    "# visualsing TF binding scores and topic values where TF is active, on peak umap\n",
    "sns.set(font_scale=1)\n",
    "# topic 3 and 19 are endoderm related and topic 25 is cardiomyocyte specific\n",
    "with plt.rc_context({\"figure.figsize\": (3, 3), \"figure.dpi\": (200)}):\n",
    "    sc.pl.umap(\n",
    "        adata_peak,\n",
    "        color=[\"Topic_3\", \"Topic_19\", \"Topic_25\"],\n",
    "        cmap=\"Greens\",\n",
    "        vmin=0.8,\n",
    "        vmax=1,\n",
    "        sort_order=True,\n",
    "    )"
   ]
  },
  {
   "cell_type": "markdown",
   "id": "304db0ad-ae2e-47cb-92cf-34f0f4dae2c7",
   "metadata": {},
   "source": [
    "##### \n",
    "we can see that Gata4 binds to regulatory regions associated with different topics and can regulate different set of genes in those topics respectively "
   ]
  },
  {
   "cell_type": "markdown",
   "id": "4af9525a-625a-4ef4-ae02-8fbb767969dd",
   "metadata": {},
   "source": [
    "## 23. Repressor analysis"
   ]
  },
  {
   "cell_type": "code",
   "execution_count": null,
   "id": "e86c7623-1d1e-4fa6-be12-0d7c2980b8dd",
   "metadata": {},
   "outputs": [],
   "source": [
    "df_topic_repressor, top_regulators_repressor = get_top_repressor_per_topic(\n",
    "    grn_rep,\n",
    "    tf_names,\n",
    "    scdori_latent,\n",
    "    selected_topics=None,\n",
    "    top_k=20,\n",
    "    clamp_value=1e-8,\n",
    "    zscore=True,\n",
    "    figsize=(25, 10),\n",
    "    out_fig=None,\n",
    ")"
   ]
  },
  {
   "cell_type": "code",
   "execution_count": null,
   "id": "3a9ce4b5-faa3-45aa-aa9b-1b6011ee99bb",
   "metadata": {},
   "outputs": [],
   "source": [
    "cell_tf_rep = compute_repressor_tf_activity_per_cell(\n",
    "    grn_rep,\n",
    "    tf_names,\n",
    "    scdori_latent,\n",
    "    selected_topics=None,\n",
    "    clamp_value=1e-8,\n",
    "    zscore=True,\n",
    ")"
   ]
  },
  {
   "cell_type": "code",
   "execution_count": null,
   "id": "6cbe4cad-f4af-48cf-8404-f32d7a342ea5",
   "metadata": {},
   "outputs": [],
   "source": [
    "df_celltype_tf_rep = pd.DataFrame(cell_tf_rep, columns=tf_names)\n",
    "df_celltype_tf_rep[\"celltype\"] = rna_metacell.obs[\"celltype\"].values\n",
    "df_celltype_tf_rep = df_celltype_tf_rep.groupby(\"celltype\").mean()"
   ]
  },
  {
   "cell_type": "markdown",
   "id": "b9464961-4dae-4776-8fc7-b053e87babad",
   "metadata": {},
   "source": [
    "## 24. visualising enhancer gene links"
   ]
  },
  {
   "cell_type": "code",
   "execution_count": null,
   "id": "be199395-1220-4c3d-a5cb-b965c8317452",
   "metadata": {},
   "outputs": [],
   "source": [
    "# peaks gene links used by scdori\n",
    "gene_peak = (model.gene_peak_factor_learnt.detach().cpu().numpy()) * (\n",
    "    model.gene_peak_factor_fixed.detach().cpu().numpy()\n",
    ")"
   ]
  },
  {
   "cell_type": "code",
   "execution_count": null,
   "id": "3f978729-bd1e-4e61-836e-9ab434910696",
   "metadata": {},
   "outputs": [],
   "source": [
    "gene_peak.shape"
   ]
  },
  {
   "cell_type": "code",
   "execution_count": null,
   "id": "a9d612fd-0de9-469b-b064-8d71e4cf8ca0",
   "metadata": {},
   "outputs": [],
   "source": [
    "gene_name = \"Tal1\"\n",
    "gene_index = list(rna_metacell.var_names).index(gene_name)\n",
    "\n",
    "enhancers = np.where(gene_peak[gene_index, :] > 0.99)[\n",
    "    0\n",
    "]  # change this threshold to obtain more links\n",
    "enhancers = atac_metacell.var_names[enhancers]"
   ]
  },
  {
   "cell_type": "markdown",
   "id": "c45eef82-43b1-48b2-a704-0cd1db795ef2",
   "metadata": {},
   "source": [
    "##### \n",
    "plotting accesibility of Tal1 enhancers across celltypes"
   ]
  },
  {
   "cell_type": "code",
   "execution_count": null,
   "id": "dc8f8cbf-5b78-428f-8ff9-829fa35d276c",
   "metadata": {},
   "outputs": [],
   "source": [
    "peak_gene_celltype = peak_celltype_df.loc[enhancers]\n",
    "peak_gene_celltype"
   ]
  },
  {
   "cell_type": "code",
   "execution_count": null,
   "id": "77ab6c54-b211-46b3-8ab9-20bf358365cc",
   "metadata": {},
   "outputs": [],
   "source": [
    "sns.clustermap(peak_celltype_df.loc[enhancers], cmap=\"RdBu_r\", vmin=-5, vmax=5)"
   ]
  },
  {
   "cell_type": "markdown",
   "id": "a0f25d64-f9f6-4513-96e5-8cdad20cf56f",
   "metadata": {},
   "source": [
    "#### \n",
    "plotting Tal1 expression and net accesibility of its predcited enhancers across celltypes"
   ]
  },
  {
   "cell_type": "code",
   "execution_count": null,
   "id": "df14b650-c7c3-4144-b796-edfa9a5a3748",
   "metadata": {},
   "outputs": [],
   "source": [
    "atac_metacell.X = atac_metacell.layers[\"counts\"]\n",
    "# normalsing raw counts\n",
    "sc.pp.normalize_total(atac_metacell)\n",
    "sc.tl.score_genes(atac_metacell, enhancers, score_name=\"Tal1_enhancer_accesibility\")"
   ]
  },
  {
   "cell_type": "code",
   "execution_count": null,
   "id": "28671ab3-e9a9-4c0d-865d-507cbb14dfd1",
   "metadata": {},
   "outputs": [],
   "source": [
    "rna_metacell.obs[\"Tal1_enhancer_accesibility\"] = atac_metacell.obs[\n",
    "    \"Tal1_enhancer_accesibility\"\n",
    "].values"
   ]
  },
  {
   "cell_type": "code",
   "execution_count": null,
   "id": "eb92ff16-5f5c-4312-9add-e0ef499848d9",
   "metadata": {},
   "outputs": [],
   "source": [
    "sns.set(font_scale=1)\n",
    "sns.set_style(\"whitegrid\")\n",
    "with plt.rc_context({\"figure.figsize\": (7, 7), \"figure.dpi\": (200)}):\n",
    "    sc.pl.umap(\n",
    "        rna_metacell,\n",
    "        color=[\"celltype\", \"Tal1\", \"Tal1_enhancer_accesibility\"],\n",
    "        add_outline=True,\n",
    "        outline_color=(\"white\", \"black\"),\n",
    "        size=10,\n",
    "        cmap=\"YlGnBu\",\n",
    "        vmin=0,\n",
    "        vmax=1,\n",
    "        legend_loc=None,\n",
    "    )"
   ]
  },
  {
   "cell_type": "code",
   "execution_count": null,
   "id": "973024b8-ee54-45c0-98f6-f28d06c2b076",
   "metadata": {},
   "outputs": [],
   "source": []
  }
 ],
 "metadata": {
  "kernelspec": {
   "display_name": "Python 3",
   "language": "python",
   "name": "python3"
  },
  "language_info": {
   "codemirror_mode": {
    "name": "ipython",
    "version": 3
   },
   "file_extension": ".py",
   "mimetype": "text/x-python",
   "name": "python",
   "nbconvert_exporter": "python",
   "pygments_lexer": "ipython3",
   "version": "3.10.16"
  }
 },
 "nbformat": 4,
 "nbformat_minor": 5
}
