{
 "cells": [
  {
   "cell_type": "markdown",
   "id": "a17d8764",
   "metadata": {},
   "source": [
    "# scDoRI Data Preprocessing"
   ]
  },
  {
   "cell_type": "code",
   "execution_count": 1,
   "id": "7eba927e-1ea6-4588-a5e8-48a1ec9a212a",
   "metadata": {},
   "outputs": [],
   "source": [
    "import logging\n",
    "from pathlib import Path\n",
    "import numpy as np\n",
    "import pandas as pd\n",
    "\n",
    "from scdori.pp import (\n",
    "    ppConfig,\n",
    "    compute_gene_peak_distance_matrix,\n",
    "    compute_hvgs_and_tfs,\n",
    "    compute_in_silico_chipseq,\n",
    "    compute_motif_scores,\n",
    "    create_dir_if_not_exists,\n",
    "    create_extended_gene_bed,\n",
    "    create_metacells,\n",
    "    download_genome_references,\n",
    "    filter_protein_coding_genes,\n",
    "    intersect_cells,\n",
    "    keep_promoters_and_select_hv_peaks,\n",
    "    load_anndata,\n",
    "    load_gtf,\n",
    "    load_motif_database,\n",
    "    remove_mitochondrial_genes,\n",
    "    run_bedtools_intersect,\n",
    "    save_processed_datasets,\n",
    ")\n",
    "\n",
    "logger = logging.getLogger(__name__)"
   ]
  },
  {
   "cell_type": "code",
   "execution_count": 2,
   "id": "e8d9fa35-37b5-4f3b-bb08-eff1703e5926",
   "metadata": {},
   "outputs": [
    {
     "name": "stderr",
     "output_type": "stream",
     "text": [
      "INFO:__main__:=== Starting multi-ome preprocessing pipeline ===\n"
     ]
    }
   ],
   "source": [
    "logging.getLogger().setLevel(ppConfig.logging_level)\n",
    "\n",
    "logger.info(\"=== Starting multi-ome preprocessing pipeline ===\")"
   ]
  },
  {
   "cell_type": "markdown",
   "id": "7cb47cf7",
   "metadata": {},
   "source": [
    "## 1. Prepare directories"
   ]
  },
  {
   "cell_type": "code",
   "execution_count": 3,
   "id": "76ccb5d0-c564-4988-8c06-2bb903086668",
   "metadata": {},
   "outputs": [],
   "source": [
    "data_dir = Path(ppConfig.data_dir)\n",
    "genome_dir = Path(ppConfig.genome_dir)\n",
    "motif_dir = Path(ppConfig.motif_directory)\n",
    "out_dir = data_dir / ppConfig.output_subdir_name\n",
    "\n",
    "create_dir_if_not_exists(genome_dir)\n",
    "create_dir_if_not_exists(motif_dir)\n",
    "create_dir_if_not_exists(out_dir)"
   ]
  },
  {
   "cell_type": "markdown",
   "id": "cdffc8a7",
   "metadata": {},
   "source": [
    "## 2. Download reference genome, gene annotations and chromosome sizes"
   ]
  },
  {
   "cell_type": "code",
   "execution_count": 4,
   "id": "4f7904a5-021f-4e47-9447-7b778435844a",
   "metadata": {},
   "outputs": [
    {
     "name": "stderr",
     "output_type": "stream",
     "text": [
      "INFO:scdori.pp.download:Using genome references for species='mouse', assembly='mm10'.\n",
      "GTF: https://ftp.ebi.ac.uk/pub/databases/gencode/Gencode_mouse/release_M18/gencode.vM18.basic.annotation.gtf.gz\n",
      "Chrom.sizes: https://hgdownload.cse.ucsc.edu/goldenpath/mm10/bigZips/mm10.chrom.sizes\n",
      "FASTA: https://hgdownload.soe.ucsc.edu/goldenPath/mm10/bigZips/mm10.fa.gz\n",
      "INFO:scdori.pp.download:Reference files are ready in /data/m015k/new_metacells/mouse_genome_files\n"
     ]
    }
   ],
   "source": [
    "download_genome_references(\n",
    "    genome_dir=genome_dir,\n",
    "    species=ppConfig.species,\n",
    "    assembly=ppConfig.genome_assembly,\n",
    "    gtf_url=ppConfig.gtf_url,\n",
    "    chrom_sizes_url=ppConfig.chrom_sizes_url,\n",
    "    fasta_url=ppConfig.fasta_url,\n",
    ")\n",
    "# download_motif_database(motif_dir, config.motif_database, config.species)"
   ]
  },
  {
   "cell_type": "markdown",
   "id": "ed7bbd46",
   "metadata": {},
   "source": [
    "## 3. Load RNA and ATAC anndata"
   ]
  },
  {
   "cell_type": "code",
   "execution_count": 5,
   "id": "abc4b74f-c240-4380-8626-a7395da9e2e2",
   "metadata": {},
   "outputs": [
    {
     "name": "stderr",
     "output_type": "stream",
     "text": [
      "INFO:scdori.pp.data_io:Loading RNA from /data/m015k/new_metacells/data_gastrulation_single_cell/anndata.h5ad, ATAC from /data/m015k/new_metacells/data_gastrulation_single_cell/PeakMatrix_anndata.h5ad\n"
     ]
    }
   ],
   "source": [
    "data_rna, data_atac = load_anndata(\n",
    "    data_dir, ppConfig.rna_adata_file_name, ppConfig.atac_adata_file_name\n",
    ")"
   ]
  },
  {
   "cell_type": "markdown",
   "id": "52756f25",
   "metadata": {},
   "source": [
    "## 4. Find cells common to both modalities and remove mito genes"
   ]
  },
  {
   "cell_type": "code",
   "execution_count": 6,
   "id": "07b6a579-ef7f-4932-bac4-bb092c5b1123",
   "metadata": {},
   "outputs": [
    {
     "name": "stderr",
     "output_type": "stream",
     "text": [
      "INFO:scdori.pp.filtering:Intersected cells: now RNA=(56861, 32285), ATAC=(56861, 192251)\n",
      "INFO:scdori.pp.filtering:Removed 13 mitochondrial genes with prefix=mt-\n"
     ]
    }
   ],
   "source": [
    "data_rna, data_atac = intersect_cells(data_rna, data_atac)\n",
    "data_rna = remove_mitochondrial_genes(\n",
    "    data_rna, mito_prefix=ppConfig.mitochondrial_prefix\n",
    ")"
   ]
  },
  {
   "cell_type": "markdown",
   "id": "d956a76a",
   "metadata": {},
   "source": [
    "## 5. Optionally filter anndata to protein-coding genes"
   ]
  },
  {
   "cell_type": "code",
   "execution_count": 7,
   "id": "830435dd-347e-41c9-b40a-dfb2beecc377",
   "metadata": {},
   "outputs": [
    {
     "name": "stderr",
     "output_type": "stream",
     "text": [
      "INFO:scdori.pp.gene_selection:Loading GTF from /data/m015k/new_metacells/mouse_genome_files/annotation.gtf\n",
      "INFO:root:Extracted GTF attributes: ['gene_id', 'gene_type', 'gene_name', 'level', 'havana_gene', 'transcript_id', 'transcript_type', 'transcript_name', 'transcript_support_level', 'tag', 'havana_transcript', 'exon_number', 'exon_id', 'protein_id', 'ccdsid', 'ont']\n",
      "INFO:scdori.pp.gene_selection:Filtered to protein-coding genes: 19374 genes left.\n"
     ]
    }
   ],
   "source": [
    "gtf_file = genome_dir / \"annotation.gtf\"\n",
    "gtf_df = load_gtf(gtf_file)\n",
    "data_rna = filter_protein_coding_genes(data_rna, gtf_df)"
   ]
  },
  {
   "cell_type": "markdown",
   "id": "cf26f71f",
   "metadata": {},
   "source": [
    "## 6. Selecting highly variable genes and TFs\n",
    "First we find which TFs have a motif present in the database provided.\n",
    "User provided sets of genes and TFs are included in final list by default; highly variable computations are performed to obtain remaining genes and TFs"
   ]
  },
  {
   "cell_type": "code",
   "execution_count": 8,
   "id": "c840c910-127d-4083-8d06-bb16160271c4",
   "metadata": {},
   "outputs": [
    {
     "name": "stderr",
     "output_type": "stream",
     "text": [
      "INFO:scdori.pp.gene_selection:Selecting HVGs and TFs...\n",
      "INFO:scdori.pp.gene_selection:Selected 3700 HVGs + 300 TFs.\n"
     ]
    }
   ],
   "source": [
    "motif_path = motif_dir / f\"{ppConfig.motif_database}_{ppConfig.species}.meme\"\n",
    "tf_names_all = []\n",
    "with open(motif_path) as f:\n",
    "    for line in f:\n",
    "        if line.startswith(\"MOTIF\"):\n",
    "            parts = line.strip().split()\n",
    "            if len(parts) >= 3:\n",
    "                tf_name = parts[2].split(\"_\")[0].strip(\"()\").strip()\n",
    "                tf_names_all.append(tf_name)\n",
    "tf_names_all = sorted(list(set(tf_names_all)))\n",
    "\n",
    "data_rna, final_genes, final_tfs = compute_hvgs_and_tfs(\n",
    "    data_rna=data_rna,\n",
    "    tf_names=tf_names_all,\n",
    "    user_genes=ppConfig.genes_user,\n",
    "    user_tfs=ppConfig.tfs_user,\n",
    "    num_genes=ppConfig.num_genes,\n",
    "    num_tfs=ppConfig.num_tfs,\n",
    "    min_cells=ppConfig.min_cells_per_gene,\n",
    ")"
   ]
  },
  {
   "cell_type": "markdown",
   "id": "dcf20b7f",
   "metadata": {},
   "source": [
    "## 7. Create extended gene bed file \n",
    "Here we extend the gene body to the user defined genomic window for processing later\n",
    "\n"
   ]
  },
  {
   "cell_type": "code",
   "execution_count": 9,
   "id": "66604c35-44ce-4456-a771-fd572a682227",
   "metadata": {},
   "outputs": [
    {
     "name": "stderr",
     "output_type": "stream",
     "text": [
      "INFO:__main__:Created extended gene bed => /data/m015k/new_metacells/data_gastrulation_single_cell/generated_data/genes_extended_80kb.bed\n"
     ]
    }
   ],
   "source": [
    "chrom_sizes_path = genome_dir / f\"{ppConfig.genome_assembly}.chrom.sizes\"\n",
    "extended_genes_bed_df = create_extended_gene_bed(\n",
    "    gtf_df,\n",
    "    final_genes + final_tfs,  # if we want to include TF genes too\n",
    "    window_size=ppConfig.window_size,\n",
    "    chrom_sizes_path=chrom_sizes_path,\n",
    ")\n",
    "\n",
    "gene_bed_file = out_dir / f\"genes_extended_{ppConfig.window_size//1000}kb.bed\"\n",
    "extended_genes_bed_df.to_csv(gene_bed_file, sep=\"\\t\", header=False, index=False)\n",
    "logger.info(f\"Created extended gene bed => {gene_bed_file}\")"
   ]
  },
  {
   "cell_type": "code",
   "execution_count": 10,
   "id": "30ceb73a-c5a1-4fbb-a8a8-b1963e56bbbe",
   "metadata": {},
   "outputs": [
    {
     "data": {
      "text/html": [
       "<div>\n",
       "<style scoped>\n",
       "    .dataframe tbody tr th:only-of-type {\n",
       "        vertical-align: middle;\n",
       "    }\n",
       "\n",
       "    .dataframe tbody tr th {\n",
       "        vertical-align: top;\n",
       "    }\n",
       "\n",
       "    .dataframe thead th {\n",
       "        text-align: right;\n",
       "    }\n",
       "</style>\n",
       "<table border=\"1\" class=\"dataframe\">\n",
       "  <thead>\n",
       "    <tr style=\"text-align: right;\">\n",
       "      <th></th>\n",
       "      <th>idx</th>\n",
       "      <th>chr</th>\n",
       "      <th>start</th>\n",
       "      <th>end</th>\n",
       "    </tr>\n",
       "  </thead>\n",
       "  <tbody>\n",
       "    <tr>\n",
       "      <th>chr1:3035602-3036202</th>\n",
       "      <td>chr1:3035602-3036202</td>\n",
       "      <td>chr1</td>\n",
       "      <td>3035602</td>\n",
       "      <td>3036202</td>\n",
       "    </tr>\n",
       "    <tr>\n",
       "      <th>chr1:3062653-3063253</th>\n",
       "      <td>chr1:3062653-3063253</td>\n",
       "      <td>chr1</td>\n",
       "      <td>3062653</td>\n",
       "      <td>3063253</td>\n",
       "    </tr>\n",
       "    <tr>\n",
       "      <th>chr1:3072313-3072913</th>\n",
       "      <td>chr1:3072313-3072913</td>\n",
       "      <td>chr1</td>\n",
       "      <td>3072313</td>\n",
       "      <td>3072913</td>\n",
       "    </tr>\n",
       "    <tr>\n",
       "      <th>chr1:3191496-3192096</th>\n",
       "      <td>chr1:3191496-3192096</td>\n",
       "      <td>chr1</td>\n",
       "      <td>3191496</td>\n",
       "      <td>3192096</td>\n",
       "    </tr>\n",
       "    <tr>\n",
       "      <th>chr1:3340575-3341175</th>\n",
       "      <td>chr1:3340575-3341175</td>\n",
       "      <td>chr1</td>\n",
       "      <td>3340575</td>\n",
       "      <td>3341175</td>\n",
       "    </tr>\n",
       "    <tr>\n",
       "      <th>...</th>\n",
       "      <td>...</td>\n",
       "      <td>...</td>\n",
       "      <td>...</td>\n",
       "      <td>...</td>\n",
       "    </tr>\n",
       "    <tr>\n",
       "      <th>chrX:169902806-169903406</th>\n",
       "      <td>chrX:169902806-169903406</td>\n",
       "      <td>chrX</td>\n",
       "      <td>169902806</td>\n",
       "      <td>169903406</td>\n",
       "    </tr>\n",
       "    <tr>\n",
       "      <th>chrX:169905921-169906521</th>\n",
       "      <td>chrX:169905921-169906521</td>\n",
       "      <td>chrX</td>\n",
       "      <td>169905921</td>\n",
       "      <td>169906521</td>\n",
       "    </tr>\n",
       "    <tr>\n",
       "      <th>chrX:169915616-169916216</th>\n",
       "      <td>chrX:169915616-169916216</td>\n",
       "      <td>chrX</td>\n",
       "      <td>169915616</td>\n",
       "      <td>169916216</td>\n",
       "    </tr>\n",
       "    <tr>\n",
       "      <th>chrX:169925487-169926087</th>\n",
       "      <td>chrX:169925487-169926087</td>\n",
       "      <td>chrX</td>\n",
       "      <td>169925487</td>\n",
       "      <td>169926087</td>\n",
       "    </tr>\n",
       "    <tr>\n",
       "      <th>chrX:169937064-169937664</th>\n",
       "      <td>chrX:169937064-169937664</td>\n",
       "      <td>chrX</td>\n",
       "      <td>169937064</td>\n",
       "      <td>169937664</td>\n",
       "    </tr>\n",
       "  </tbody>\n",
       "</table>\n",
       "<p>192251 rows × 4 columns</p>\n",
       "</div>"
      ],
      "text/plain": [
       "                                               idx   chr      start        end\n",
       "chr1:3035602-3036202          chr1:3035602-3036202  chr1    3035602    3036202\n",
       "chr1:3062653-3063253          chr1:3062653-3063253  chr1    3062653    3063253\n",
       "chr1:3072313-3072913          chr1:3072313-3072913  chr1    3072313    3072913\n",
       "chr1:3191496-3192096          chr1:3191496-3192096  chr1    3191496    3192096\n",
       "chr1:3340575-3341175          chr1:3340575-3341175  chr1    3340575    3341175\n",
       "...                                            ...   ...        ...        ...\n",
       "chrX:169902806-169903406  chrX:169902806-169903406  chrX  169902806  169903406\n",
       "chrX:169905921-169906521  chrX:169905921-169906521  chrX  169905921  169906521\n",
       "chrX:169915616-169916216  chrX:169915616-169916216  chrX  169915616  169916216\n",
       "chrX:169925487-169926087  chrX:169925487-169926087  chrX  169925487  169926087\n",
       "chrX:169937064-169937664  chrX:169937064-169937664  chrX  169937064  169937664\n",
       "\n",
       "[192251 rows x 4 columns]"
      ]
     },
     "execution_count": 10,
     "metadata": {},
     "output_type": "execute_result"
    }
   ],
   "source": [
    "data_atac.var"
   ]
  },
  {
   "cell_type": "markdown",
   "id": "dd112a39",
   "metadata": {},
   "source": [
    "## 8. Create bed file for all peaks\n",
    "Of note, that peak anndata var should have chr, start, end and peak_name columns. If not, obtain them"
   ]
  },
  {
   "cell_type": "code",
   "execution_count": 11,
   "id": "efe7b58d-ef38-4449-911f-a7fa87619011",
   "metadata": {},
   "outputs": [],
   "source": [
    "data_atac.var[\"chr\"] = [x.split(\":\")[0] for x in data_atac.var.index]\n",
    "data_atac.var[\"start\"] = [\n",
    "    int(x.split(\":\")[1].split(\"-\")[0]) for x in data_atac.var.index\n",
    "]\n",
    "data_atac.var[\"end\"] = [int(x.split(\":\")[1].split(\"-\")[1]) for x in data_atac.var.index]\n",
    "data_atac.var[\"peak_name\"] = data_atac.var.index\n",
    "all_peaks_bed = out_dir / \"peaks_all.bed\"\n",
    "data_atac.var[[\"chr\", \"start\", \"end\", \"peak_name\"]].to_csv(\n",
    "    all_peaks_bed, sep=\"\\t\", header=False, index=False\n",
    ")"
   ]
  },
  {
   "cell_type": "markdown",
   "id": "a64098dd",
   "metadata": {},
   "source": [
    "## 9. intersect peaks with extended gene window\n",
    "\n",
    "Here we subset to peaks which are within a user-defined genomic window of atleast one (selected) gene."
   ]
  },
  {
   "cell_type": "code",
   "execution_count": 12,
   "id": "8e768a28-b448-4841-822e-ffe600baecd4",
   "metadata": {},
   "outputs": [
    {
     "name": "stderr",
     "output_type": "stream",
     "text": [
      "INFO:scdori.pp.motif_scanning:Running: bedtools intersect -u -wa -a /data/m015k/new_metacells/data_gastrulation_single_cell/generated_data/peaks_all.bed -b /data/m015k/new_metacells/data_gastrulation_single_cell/generated_data/genes_extended_80kb.bed > /data/m015k/new_metacells/data_gastrulation_single_cell/generated_data/peaks_intersected.bed\n",
      "INFO:__main__:After gene-window filtering => shape=(56861, 98566)\n"
     ]
    }
   ],
   "source": [
    "#\n",
    "intersected_bed = out_dir / \"peaks_intersected.bed\"\n",
    "run_bedtools_intersect(\n",
    "    a_bed=all_peaks_bed, b_bed=gene_bed_file, out_bed=intersected_bed\n",
    ")\n",
    "\n",
    "peaks_intersected = pd.read_csv(intersected_bed, sep=\"\\t\", header=None)\n",
    "peaks_intersected.columns = [\"chr\", \"start\", \"end\", \"peak_name\"]\n",
    "windowed_set = set(peaks_intersected[\"peak_name\"])\n",
    "\n",
    "# Subset data_atac to these peaks\n",
    "data_atac = data_atac[:, list(windowed_set)].copy()\n",
    "logger.info(f\"After gene-window filtering => shape={data_atac.shape}\")"
   ]
  },
  {
   "cell_type": "markdown",
   "id": "6bbb8a7b",
   "metadata": {},
   "source": [
    "## 10. Create metacells and store in .obs[\"leiden\"]\n",
    "\n",
    "Here we obtain metacells using fine-grained leiden clustering on RNA modality. These metacells ar eused to calculate highly variable peaks and to calculate insilico-chipseq scores."
   ]
  },
  {
   "cell_type": "code",
   "execution_count": 13,
   "id": "f26b9d5f-37fc-4412-bd26-05d9d44ec5a1",
   "metadata": {},
   "outputs": [
    {
     "name": "stderr",
     "output_type": "stream",
     "text": [
      "INFO:scdori.pp.metacells:Creating metacells with resolution=10 (grouping key=leiden).\n",
      "2025-04-11 10:36:19,105 - harmonypy - INFO - Computing initial centroids with sklearn.KMeans...\n",
      "INFO:harmonypy:Computing initial centroids with sklearn.KMeans...\n",
      "2025-04-11 10:36:22,131 - harmonypy - INFO - sklearn.KMeans initialization complete.\n",
      "INFO:harmonypy:sklearn.KMeans initialization complete.\n",
      "2025-04-11 10:36:22,327 - harmonypy - INFO - Iteration 1 of 10\n",
      "INFO:harmonypy:Iteration 1 of 10\n",
      "2025-04-11 10:36:31,808 - harmonypy - INFO - Iteration 2 of 10\n",
      "INFO:harmonypy:Iteration 2 of 10\n",
      "2025-04-11 10:36:41,310 - harmonypy - INFO - Iteration 3 of 10\n",
      "INFO:harmonypy:Iteration 3 of 10\n",
      "2025-04-11 10:36:50,758 - harmonypy - INFO - Iteration 4 of 10\n",
      "INFO:harmonypy:Iteration 4 of 10\n",
      "2025-04-11 10:37:00,559 - harmonypy - INFO - Iteration 5 of 10\n",
      "INFO:harmonypy:Iteration 5 of 10\n",
      "2025-04-11 10:37:10,167 - harmonypy - INFO - Iteration 6 of 10\n",
      "INFO:harmonypy:Iteration 6 of 10\n",
      "2025-04-11 10:37:19,920 - harmonypy - INFO - Converged after 6 iterations\n",
      "INFO:harmonypy:Converged after 6 iterations\n",
      "/data/m015k/micromamba/envs/scdori_env/lib/python3.10/site-packages/scdori/pp/metacells.py:77: FutureWarning: In the future, the default backend for leiden will be igraph instead of leidenalg.\n",
      "\n",
      " To achieve the future defaults please pass: flavor=\"igraph\" and n_iterations=2.  directed must also be False to work with igraph's implementation.\n",
      "  sc.tl.leiden(data_rna, resolution=resolution, key_added=grouping_key)\n",
      "/data/m015k/micromamba/envs/scdori_env/lib/python3.10/site-packages/scdori/pp/metacells.py:81: FutureWarning: The default of observed=False is deprecated and will be changed to True in a future version of pandas. Pass observed=False to retain current behavior or observed=True to adopt the future default and silence this warning.\n",
      "  cluster_groups = data_rna.obs.groupby(grouping_key)\n",
      "INFO:scdori.pp.metacells:Metacell shapes: RNA=(140, 4000), ATAC=(140, 98566)\n"
     ]
    }
   ],
   "source": [
    "#\n",
    "rna_metacell, atac_metacell = create_metacells(\n",
    "    data_rna,\n",
    "    data_atac,\n",
    "    grouping_key=\"leiden\",\n",
    "    resolution=ppConfig.leiden_resolution,\n",
    "    batch_key=ppConfig.batch_key,\n",
    ")\n",
    "# Copy labels\n",
    "data_atac.obs[\"leiden\"] = data_rna.obs[\"leiden\"]"
   ]
  },
  {
   "cell_type": "markdown",
   "id": "14cd76d3",
   "metadata": {},
   "source": [
    "## 11. Keep promoter peaks and highly variable peaks from the rest => total # = num_peaks"
   ]
  },
  {
   "cell_type": "code",
   "execution_count": 14,
   "id": "4d121135-a2e1-4652-b4c8-784c0627e098",
   "metadata": {},
   "outputs": [
    {
     "name": "stderr",
     "output_type": "stream",
     "text": [
      "WARNING:scdori.pp.peak_selection:Column promoter_col not found in data_atac.var; no special promoter logic.\n",
      "/data/m015k/micromamba/envs/scdori_env/lib/python3.10/site-packages/scdori/pp/peak_selection.py:49: FutureWarning: The default of observed=False is deprecated and will be changed to True in a future version of pandas. Pass observed=False to retain current behavior or observed=True to adopt the future default and silence this warning.\n",
      "  cluster_groups = data_atac.obs.groupby(cluster_key)\n",
      "INFO:scdori.pp.peak_selection:Selected top 90000 variable peaks (by std across leiden).\n",
      "INFO:__main__:Final shape after combining promoters + HV => (56861, 90000)\n"
     ]
    }
   ],
   "source": [
    "data_atac = keep_promoters_and_select_hv_peaks(\n",
    "    data_atac=data_atac,\n",
    "    total_n_peaks=ppConfig.num_peaks,\n",
    "    cluster_key=\"leiden\",\n",
    "    promoter_col=ppConfig.promoter_col,  # column in data_atac.var\n",
    ")\n",
    "\n",
    "logger.info(f\"Final shape after combining promoters + HV => {data_atac.shape}\")"
   ]
  },
  {
   "cell_type": "markdown",
   "id": "f006d500",
   "metadata": {},
   "source": [
    "## 12. Save processed ATAC and RNA data"
   ]
  },
  {
   "cell_type": "code",
   "execution_count": 15,
   "id": "a4600d1e-30d7-4e44-8550-db5b804c10cf",
   "metadata": {},
   "outputs": [
    {
     "name": "stderr",
     "output_type": "stream",
     "text": [
      "... storing 'gene_type' as categorical\n",
      "... storing 'chr' as categorical\n",
      "INFO:scdori.pp.data_io:Saved processed RNA to /data/m015k/new_metacells/data_gastrulation_single_cell/generated_data/rna_processed.h5ad with shape=(56861, 4000)\n",
      "INFO:scdori.pp.data_io:Saved processed ATAC to /data/m015k/new_metacells/data_gastrulation_single_cell/generated_data/atac_processed.h5ad with shape=(56861, 90000)\n"
     ]
    }
   ],
   "source": [
    "save_processed_datasets(data_rna, data_atac, out_dir)"
   ]
  },
  {
   "cell_type": "markdown",
   "id": "7f8f490f",
   "metadata": {},
   "source": [
    "## 13. Make bed file for final set of peaks (post selection)"
   ]
  },
  {
   "cell_type": "code",
   "execution_count": 16,
   "id": "07118348-33f9-471d-9235-9eedb5a62642",
   "metadata": {},
   "outputs": [],
   "source": [
    "data_atac.var[\"chr\"] = [v.split(\":\")[0] for v in data_atac.var_names]\n",
    "data_atac.var[\"start\"] = [\n",
    "    int(v.split(\":\")[1].split(\"-\")[0]) for v in data_atac.var_names\n",
    "]\n",
    "data_atac.var[\"end\"] = [int(v.split(\":\")[1].split(\"-\")[1]) for v in data_atac.var_names]\n",
    "data_atac.var[\"peak_name\"] = data_atac.var_names\n",
    "peaks_bed = out_dir / \"peaks_selected.bed\"\n",
    "data_atac.var[[\"chr\", \"start\", \"end\", \"peak_name\"]].to_csv(\n",
    "    peaks_bed, sep=\"\\t\", header=False, index=False\n",
    ")"
   ]
  },
  {
   "cell_type": "markdown",
   "id": "4e2049f2",
   "metadata": {},
   "source": [
    "## 14. Compute motif matches for peaks\n",
    "\n",
    "We use FIMO module from tangermeme (https://tangermeme.readthedocs.io/en/latest/tutorials/Tutorial_D1_FIMO.html) to score the motifs"
   ]
  },
  {
   "cell_type": "code",
   "execution_count": 17,
   "id": "e0813fab-0845-40c7-95e2-cabf16661fc0",
   "metadata": {},
   "outputs": [
    {
     "name": "stderr",
     "output_type": "stream",
     "text": [
      "INFO:scdori.pp.motif_scanning:Reading motif file: /home/m015k/code/scDoRI/assets/motif_database/cisbp_mouse.meme\n",
      "INFO:scdori.pp.motif_scanning:Subselected 300 motifs for 300 TFs.\n",
      "INFO:scdori.pp.motif_scanning:Computing motif scores for /data/m015k/new_metacells/data_gastrulation_single_cell/generated_data/peaks_selected.bed (n_peaks=90000) with window=500\n",
      "100%|██████████| 300/300 [00:05<00:00, 53.44it/s]\n",
      "INFO:scdori.pp.motif_scanning:Finished computing motif scores: (90000, 300)\n"
     ]
    }
   ],
   "source": [
    "motif_path = (\n",
    "    Path(ppConfig.motif_directory)\n",
    "    / f\"{ppConfig.motif_database}_{ppConfig.species}.meme\"\n",
    ")\n",
    "pwms_sub, key_to_tf = load_motif_database(motif_path, final_tfs)\n",
    "fasta_path = genome_dir / f\"{ppConfig.genome_assembly}.fa\"\n",
    "df_motif_scores = compute_motif_scores(\n",
    "    bed_file=peaks_bed,\n",
    "    fasta_file=fasta_path,\n",
    "    pwms_sub=pwms_sub,\n",
    "    key_to_tf=key_to_tf,\n",
    "    n_peaks=data_atac.shape[1],\n",
    "    window=500,\n",
    "    threshold=ppConfig.motif_match_pvalue_threshold,\n",
    ")\n",
    "df_motif_scores = df_motif_scores[final_tfs]"
   ]
  },
  {
   "cell_type": "code",
   "execution_count": 18,
   "id": "a09c2d2b-49c7-4de8-b124-f60df687937a",
   "metadata": {},
   "outputs": [],
   "source": [
    "df_motif_scores.to_csv(out_dir / \"motif_scores.tsv\", sep=\"\\t\")"
   ]
  },
  {
   "cell_type": "markdown",
   "id": "da4e68ff",
   "metadata": {},
   "source": [
    "## 15. compute insilico-chipseq\n",
    "We first subset the previously computed ATAC metacell matrix to selected peaks and use it calculate correlation of TF-peak expression-accesibility. These correlations are thresholded based on an empirically determined cutoff ( from non-motif matched peaks per TF) and then multiplied by motif matching scores from FIMO to obtain insilico-chipseq scores ( adapted from https://www.biorxiv.org/content/10.1101/2022.06.15.496239v1 and DiFFTF https://pubmed.ncbi.nlm.nih.gov/31801079/)"
   ]
  },
  {
   "cell_type": "code",
   "execution_count": 19,
   "id": "d84d122d-6c8b-48d4-9f99-c26fb6948d8c",
   "metadata": {},
   "outputs": [
    {
     "name": "stderr",
     "output_type": "stream",
     "text": [
      "INFO:scdori.pp.correlation:Computing in-silico ChIP-seq correlation...\n",
      "Thresholding correlation: 100%|██████████| 300/300 [00:01<00:00, 202.43it/s]\n",
      "INFO:scdori.pp.correlation:Finished in-silico ChIP-seq computation.\n"
     ]
    }
   ],
   "source": [
    "# 14) Recompute metacells for correlation with selected peaks\n",
    "#     Or subset existing atac_metacell to the new set of peaks\n",
    "# then compute insilico-chipseq\n",
    "atac_metacell = atac_metacell[:, data_atac.var_names].copy()\n",
    "tf_mask = rna_metacell.var[\"gene_type\"] == \"TF\"\n",
    "rna_matrix = rna_metacell.X[:, tf_mask]  # shape=(n_meta, n_tfs)\n",
    "atac_matrix = atac_metacell.X  # shape=(n_meta, n_peaks)\n",
    "\n",
    "insilico_chipseq_act, insilico_chipseq_rep = compute_in_silico_chipseq(\n",
    "    atac_matrix=atac_matrix,\n",
    "    rna_matrix=rna_matrix,\n",
    "    motif_scores=df_motif_scores,\n",
    "    percentile=ppConfig.correlation_percentile,\n",
    "    n_bg=ppConfig.n_bg_peaks_for_corr,\n",
    ")\n",
    "np.save(out_dir / \"insilico_chipseq_act.npy\", insilico_chipseq_act)\n",
    "np.save(out_dir / \"insilico_chipseq_rep.npy\", insilico_chipseq_rep)"
   ]
  },
  {
   "cell_type": "markdown",
   "id": "2304d255",
   "metadata": {},
   "source": [
    "## 16. Compute distance matrix between peaks and genes"
   ]
  },
  {
   "cell_type": "code",
   "execution_count": 20,
   "id": "62a1d1ee-6162-4294-b34d-37bd01956b06",
   "metadata": {},
   "outputs": [
    {
     "name": "stderr",
     "output_type": "stream",
     "text": [
      "INFO:scdori.pp.utils:Starting computation of gene-peak distances...\n",
      "INFO:scdori.pp.utils:Number of genes: 4000, Number of peaks: 90000\n",
      "100%|██████████| 4000/4000 [05:48<00:00, 11.48it/s]\n",
      "INFO:scdori.pp.utils:Gene-peak distance matrix computed with shape: (4000, 90000)\n"
     ]
    }
   ],
   "source": [
    "# distance is set to 0 if the peak midpoint is within gene-body or promoter (5kb upstream of TSS by default)\n",
    "# distance is -1 if peak-gene pairs on different chromosomes\n",
    "\n",
    "data_atac.var[\"index_int\"] = range(data_atac.shape[1])\n",
    "selected_peak_indices = data_atac.var[\"index_int\"].values\n",
    "\n",
    "# Subset GTF to final genes\n",
    "gene_info = gtf_df[gtf_df.feature == \"gene\"].drop_duplicates(\"gene_name\")\n",
    "gene_info[\"gene\"] = gene_info[\"gene_name\"].values\n",
    "gene_info = gene_info.set_index(\"gene_name\")\n",
    "gene_info = gene_info.loc[data_rna.var_names.intersection(gene_info.index)]\n",
    "\n",
    "gene_info[\"chr\"] = gene_info[\"seqname\"]  # rename col for consistency\n",
    "# Create gene_coordinates_intersect with necessary columns\n",
    "gene_info = gene_info[[\"chr\", \"start\", \"end\", \"strand\", \"gene\"]].copy()\n",
    "gene_info.columns = [\"chr_gene\", \"start\", \"end\", \"strand\", \"gene\"]\n",
    "\n",
    "dist_matrix = compute_gene_peak_distance_matrix(\n",
    "    data_rna=data_rna, data_atac=data_atac, gene_coordinates_intersect=gene_info\n",
    ")\n",
    "np.save(out_dir / \"gene_peak_distance_raw.npy\", dist_matrix)"
   ]
  },
  {
   "cell_type": "code",
   "execution_count": 21,
   "id": "f98a3423-4958-456c-ab56-27b7579ffd2c",
   "metadata": {},
   "outputs": [
    {
     "data": {
      "text/plain": [
       "array([[-1, -1, -1, ..., -1, -1, -1],\n",
       "       [-1, -1, -1, ..., -1, -1, -1],\n",
       "       [-1, -1, -1, ..., -1, -1, -1],\n",
       "       ...,\n",
       "       [-1, 105721374, -1, ..., -1, -1, -1],\n",
       "       [-1, -1, -1, ..., -1, -1, -1],\n",
       "       [-1, -1, -1, ..., -1, -1, -1]], dtype=object)"
      ]
     },
     "execution_count": 21,
     "metadata": {},
     "output_type": "execute_result"
    }
   ],
   "source": [
    "dist_matrix  # -1 denotes peaks on different chromosome"
   ]
  },
  {
   "cell_type": "markdown",
   "id": "39b02b61",
   "metadata": {},
   "source": [
    "## 17. obtaining distance based decay terms to initialise peak-gene matrix for training scDoRI "
   ]
  },
  {
   "cell_type": "code",
   "execution_count": 22,
   "id": "770b2cc7-4862-4bbd-b248-8dd5783ffb99",
   "metadata": {},
   "outputs": [],
   "source": [
    "dist_matrix[dist_matrix < 0] = 1e8\n",
    "dist_matrix = np.exp(\n",
    "    -1 * dist_matrix.astype(float) / ppConfig.peak_distance_scaling_factor\n",
    ")\n",
    "dist_matrix = np.where(dist_matrix < ppConfig.peak_distance_min_cutoff, 0, dist_matrix)\n",
    "np.save(out_dir / \"gene_peak_distance_exp.npy\", dist_matrix)"
   ]
  },
  {
   "cell_type": "markdown",
   "id": "0ddbeef1",
   "metadata": {},
   "source": [
    "## 18. Final Logging, completed preprocessing"
   ]
  },
  {
   "cell_type": "code",
   "execution_count": 23,
   "id": "f523ca11-d8d4-4ffa-ac0e-28b0fe6cffd4",
   "metadata": {},
   "outputs": [
    {
     "name": "stderr",
     "output_type": "stream",
     "text": [
      "INFO:__main__:=== Pipeline completed successfully ===\n"
     ]
    }
   ],
   "source": [
    "logger.info(\"=== Pipeline completed successfully ===\")"
   ]
  }
 ],
 "metadata": {
  "kernelspec": {
   "display_name": "Python 3",
   "language": "python",
   "name": "python3"
  },
  "language_info": {
   "codemirror_mode": {
    "name": "ipython",
    "version": 3
   },
   "file_extension": ".py",
   "mimetype": "text/x-python",
   "name": "python",
   "nbconvert_exporter": "python",
   "pygments_lexer": "ipython3",
   "version": "3.10.16"
  }
 },
 "nbformat": 4,
 "nbformat_minor": 5
}
