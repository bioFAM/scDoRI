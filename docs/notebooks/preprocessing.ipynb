{
 "cells": [
  {
   "cell_type": "markdown",
   "id": "a17d8764",
   "metadata": {},
   "source": [
    "# Preprocessing Notebook"
   ]
  },
  {
   "cell_type": "code",
   "execution_count": 1,
   "id": "7eba927e-1ea6-4588-a5e8-48a1ec9a212a",
   "metadata": {},
   "outputs": [],
   "source": [
    "import logging\n",
    "from pathlib import Path\n",
    "import numpy as np\n",
    "import pandas as pd\n",
    "\n",
    "from scdori.pp import config\n",
    "from scdori.pp.download import (\n",
    "    download_genome_references\n",
    ")\n",
    "from scdori.pp.data_io import (\n",
    "    create_dir_if_not_exists,\n",
    "    load_anndata,\n",
    "    save_processed_datasets\n",
    ")\n",
    "from scdori.pp.filtering import (\n",
    "    intersect_cells,\n",
    "    remove_mitochondrial_genes\n",
    ")\n",
    "from scdori.pp.gene_selection import (\n",
    "    load_gtf,\n",
    "    filter_protein_coding_genes,\n",
    "    compute_hvgs_and_tfs\n",
    ")\n",
    "from scdori.pp.peak_selection import keep_promoters_and_select_hv_peaks\n",
    "from scdori.pp.metacells import create_metacells\n",
    "from scdori.pp.motif_scanning import (\n",
    "    run_bedtools_intersect,\n",
    "    load_motif_database,\n",
    "    compute_motif_scores\n",
    ")\n",
    "from scdori.pp.correlation import compute_in_silico_chipseq\n",
    "from scdori.pp.utils import create_extended_gene_bed,compute_gene_peak_distance_matrix\n",
    "\n",
    "logger = logging.getLogger(__name__)"
   ]
  },
  {
   "cell_type": "code",
   "execution_count": null,
   "id": "e8d9fa35-37b5-4f3b-bb08-eff1703e5926",
   "metadata": {},
   "outputs": [],
   "source": [
    "logging.getLogger().setLevel(config.logging_level)\n",
    "\n",
    "logger.info(\"=== Starting multi-ome preprocessing pipeline ===\")"
   ]
  },
  {
   "cell_type": "markdown",
   "id": "7cb47cf7",
   "metadata": {},
   "source": [
    "## 1. Prepare directories"
   ]
  },
  {
   "cell_type": "code",
   "execution_count": 3,
   "id": "76ccb5d0-c564-4988-8c06-2bb903086668",
   "metadata": {},
   "outputs": [],
   "source": [
    "\n",
    "data_dir = Path(config.data_dir)\n",
    "genome_dir = Path(config.genome_dir)\n",
    "motif_dir = Path(config.motif_directory)\n",
    "out_dir = data_dir / config.output_subdir_name\n",
    "\n",
    "create_dir_if_not_exists(genome_dir)\n",
    "create_dir_if_not_exists(motif_dir)\n",
    "create_dir_if_not_exists(out_dir)"
   ]
  },
  {
   "cell_type": "markdown",
   "id": "cdffc8a7",
   "metadata": {},
   "source": [
    "## 2. Download reference genome, gene annotations and chromosome sizes"
   ]
  },
  {
   "cell_type": "code",
   "execution_count": null,
   "id": "4f7904a5-021f-4e47-9447-7b778435844a",
   "metadata": {},
   "outputs": [],
   "source": [
    "download_genome_references(\n",
    "    genome_dir=genome_dir,\n",
    "    species=config.species,\n",
    "    assembly=config.genome_assembly,\n",
    "    gtf_url=config.gtf_url,\n",
    "    chrom_sizes_url=config.chrom_sizes_url,\n",
    "    fasta_url=config.fasta_url\n",
    ")\n",
    "# download_motif_database(motif_dir, config.motif_database, config.species)"
   ]
  },
  {
   "cell_type": "markdown",
   "id": "ed7bbd46",
   "metadata": {},
   "source": [
    "## 3. Load RNA and ATAC anndata"
   ]
  },
  {
   "cell_type": "code",
   "execution_count": null,
   "id": "abc4b74f-c240-4380-8626-a7395da9e2e2",
   "metadata": {},
   "outputs": [],
   "source": [
    "data_rna, data_atac = load_anndata(\n",
    "    data_dir,\n",
    "    config.rna_adata_file_name,\n",
    "    config.atac_adata_file_name\n",
    ")"
   ]
  },
  {
   "cell_type": "markdown",
   "id": "52756f25",
   "metadata": {},
   "source": [
    "## 4. Find cells common to both modalities and remove mito genes"
   ]
  },
  {
   "cell_type": "code",
   "execution_count": null,
   "id": "07b6a579-ef7f-4932-bac4-bb092c5b1123",
   "metadata": {},
   "outputs": [],
   "source": [
    "data_rna, data_atac = intersect_cells(data_rna, data_atac)\n",
    "data_rna = remove_mitochondrial_genes(data_rna, mito_prefix=config.mitochondrial_prefix)\n"
   ]
  },
  {
   "cell_type": "markdown",
   "id": "d956a76a",
   "metadata": {},
   "source": [
    "## 5. Optionally filter anndata to protein-coding genes"
   ]
  },
  {
   "cell_type": "code",
   "execution_count": null,
   "id": "830435dd-347e-41c9-b40a-dfb2beecc377",
   "metadata": {},
   "outputs": [],
   "source": [
    "# \n",
    "gtf_file = genome_dir / \"annotation.gtf\"\n",
    "gtf_df = load_gtf(gtf_file)\n",
    "data_rna = filter_protein_coding_genes(data_rna, gtf_df)"
   ]
  },
  {
   "cell_type": "markdown",
   "id": "cf26f71f",
   "metadata": {},
   "source": [
    "## 6. Selecting highly variable genes and TFs\n",
    "First we find which TFs have a motif present in the database provided.\n",
    "User provided sets of genes and TFs are included in final list by default; highly variable computations are performed to obtain remaining genes and TFs"
   ]
  },
  {
   "cell_type": "code",
   "execution_count": null,
   "id": "c840c910-127d-4083-8d06-bb16160271c4",
   "metadata": {},
   "outputs": [],
   "source": [
    "\n",
    "motif_path = motif_dir / f\"{config.motif_database}_{config.species}.meme\"\n",
    "tf_names_all = []\n",
    "with open(motif_path, \"r\") as f:\n",
    "    for line in f:\n",
    "        if line.startswith(\"MOTIF\"):\n",
    "            parts = line.strip().split()\n",
    "            if len(parts) >= 3:\n",
    "                tf_name = parts[2].split(\"_\")[0].strip(\"()\").strip()\n",
    "                tf_names_all.append(tf_name)\n",
    "tf_names_all = sorted(list(set(tf_names_all)))\n",
    "\n",
    "data_rna, final_genes, final_tfs = compute_hvgs_and_tfs(\n",
    "    data_rna=data_rna,\n",
    "    tf_names=tf_names_all,\n",
    "    user_genes=config.genes_user,\n",
    "    user_tfs=config.tfs_user,\n",
    "    num_genes=config.num_genes,\n",
    "    num_tfs=config.num_tfs,\n",
    "    min_cells=config.min_cells_per_gene\n",
    ")"
   ]
  },
  {
   "cell_type": "markdown",
   "id": "dcf20b7f",
   "metadata": {},
   "source": [
    "## 7. Create extended gene bed file \n",
    "Here we extend the gene body to the user defined genomic window for processing later\n",
    "\n"
   ]
  },
  {
   "cell_type": "code",
   "execution_count": null,
   "id": "66604c35-44ce-4456-a771-fd572a682227",
   "metadata": {},
   "outputs": [],
   "source": [
    "\n",
    "chrom_sizes_path = genome_dir / f\"{config.genome_assembly}.chrom.sizes\"\n",
    "extended_genes_bed_df = create_extended_gene_bed(\n",
    "    gtf_df,\n",
    "    final_genes + final_tfs,  # if we want to include TF genes too\n",
    "    window_size=config.window_size,\n",
    "    chrom_sizes_path=chrom_sizes_path\n",
    ")\n",
    "\n",
    "gene_bed_file = out_dir / f\"genes_extended_{config.window_size//1000}kb.bed\"\n",
    "extended_genes_bed_df.to_csv(gene_bed_file, sep=\"\\t\", header=False, index=False)\n",
    "logger.info(f\"Created extended gene bed => {gene_bed_file}\")"
   ]
  },
  {
   "cell_type": "code",
   "execution_count": null,
   "id": "30ceb73a-c5a1-4fbb-a8a8-b1963e56bbbe",
   "metadata": {},
   "outputs": [],
   "source": [
    "data_atac.var"
   ]
  },
  {
   "cell_type": "markdown",
   "id": "dd112a39",
   "metadata": {},
   "source": [
    "## 8. Create bed file for all peaks\n",
    "Of note, that peak anndata var should have chr, start, end and peak_name columns. If not, obtain them"
   ]
  },
  {
   "cell_type": "code",
   "execution_count": 11,
   "id": "efe7b58d-ef38-4449-911f-a7fa87619011",
   "metadata": {},
   "outputs": [],
   "source": [
    "\n",
    "data_atac.var[\"chr\"] = [x.split(\":\")[0] for x in data_atac.var.index]\n",
    "data_atac.var[\"start\"] = [int(x.split(\":\")[1].split(\"-\")[0]) for x in data_atac.var.index]\n",
    "data_atac.var[\"end\"] = [int(x.split(\":\")[1].split(\"-\")[1]) for x in data_atac.var.index]\n",
    "data_atac.var[\"peak_name\"] = data_atac.var.index\n",
    "all_peaks_bed = out_dir / \"peaks_all.bed\"\n",
    "data_atac.var[[\"chr\",\"start\",\"end\",\"peak_name\"]].to_csv(all_peaks_bed, sep=\"\\t\", header=False, index=False)"
   ]
  },
  {
   "cell_type": "markdown",
   "id": "a64098dd",
   "metadata": {},
   "source": [
    "## 9. intersect peaks with extended gene window\n",
    "\n",
    "Here we subset to peaks which are within a user-defined genomic window of atleast one (selected) gene."
   ]
  },
  {
   "cell_type": "code",
   "execution_count": null,
   "id": "8e768a28-b448-4841-822e-ffe600baecd4",
   "metadata": {},
   "outputs": [],
   "source": [
    "# \n",
    "intersected_bed = out_dir / \"peaks_intersected.bed\"\n",
    "run_bedtools_intersect(a_bed=all_peaks_bed, b_bed=gene_bed_file, out_bed=intersected_bed)\n",
    "\n",
    "peaks_intersected = pd.read_csv(intersected_bed, sep=\"\\t\", header=None)\n",
    "peaks_intersected.columns = [\"chr\",\"start\",\"end\",\"peak_name\"]\n",
    "windowed_set = set(peaks_intersected[\"peak_name\"])\n",
    "\n",
    "# Subset data_atac to these peaks\n",
    "data_atac = data_atac[:, list(windowed_set)].copy()\n",
    "logger.info(f\"After gene-window filtering => shape={data_atac.shape}\")"
   ]
  },
  {
   "cell_type": "markdown",
   "id": "6bbb8a7b",
   "metadata": {},
   "source": [
    "## 10. Create metacells and store in .obs[\"leiden\"]\n",
    "\n",
    "Here we obtain metacells using fine-grained leiden clustering on RNA modality. These metacells ar eused to calculate highly variable peaks and to calculate insilico-chipseq scores."
   ]
  },
  {
   "cell_type": "code",
   "execution_count": null,
   "id": "f26b9d5f-37fc-4412-bd26-05d9d44ec5a1",
   "metadata": {},
   "outputs": [],
   "source": [
    "#\n",
    "rna_metacell, atac_metacell = create_metacells(\n",
    "    data_rna, data_atac,\n",
    "    grouping_key=\"leiden\",\n",
    "    resolution=config.leiden_resolution,\n",
    "    batch_key=config.batch_key\n",
    ")\n",
    " # Copy labels\n",
    "data_atac.obs[\"leiden\"] = data_rna.obs[\"leiden\"]"
   ]
  },
  {
   "cell_type": "markdown",
   "id": "14cd76d3",
   "metadata": {},
   "source": [
    "## 11. Keep promoter peaks and highly variable peaks from the rest => total # = num_peaks"
   ]
  },
  {
   "cell_type": "code",
   "execution_count": null,
   "id": "4d121135-a2e1-4652-b4c8-784c0627e098",
   "metadata": {},
   "outputs": [],
   "source": [
    "data_atac = keep_promoters_and_select_hv_peaks(\n",
    "    data_atac=data_atac,\n",
    "    total_n_peaks=config.num_peaks,\n",
    "    cluster_key=\"leiden\",\n",
    "    promoter_col=config.promoter_col  # column in data_atac.var\n",
    ")\n",
    "\n",
    "logger.info(f\"Final shape after combining promoters + HV => {data_atac.shape}\")"
   ]
  },
  {
   "cell_type": "markdown",
   "id": "f006d500",
   "metadata": {},
   "source": [
    "## 12. Save processed ATAC and RNA data"
   ]
  },
  {
   "cell_type": "code",
   "execution_count": null,
   "id": "a4600d1e-30d7-4e44-8550-db5b804c10cf",
   "metadata": {},
   "outputs": [],
   "source": [
    "save_processed_datasets(data_rna, data_atac, out_dir)"
   ]
  },
  {
   "cell_type": "markdown",
   "id": "7f8f490f",
   "metadata": {},
   "source": [
    "## 13. Make bed file for final set of peaks (post selection)"
   ]
  },
  {
   "cell_type": "code",
   "execution_count": 16,
   "id": "07118348-33f9-471d-9235-9eedb5a62642",
   "metadata": {},
   "outputs": [],
   "source": [
    "data_atac.var[\"chr\"] = [v.split(\":\")[0] for v in data_atac.var_names]\n",
    "data_atac.var[\"start\"] = [int(v.split(\":\")[1].split(\"-\")[0]) for v in data_atac.var_names]\n",
    "data_atac.var[\"end\"] = [int(v.split(\":\")[1].split(\"-\")[1]) for v in data_atac.var_names]\n",
    "data_atac.var[\"peak_name\"] = data_atac.var_names\n",
    "peaks_bed = out_dir / \"peaks_selected.bed\"\n",
    "data_atac.var[[\"chr\",\"start\",\"end\",\"peak_name\"]].to_csv(\n",
    "    peaks_bed, sep=\"\\t\", header=False, index=False\n",
    ")"
   ]
  },
  {
   "cell_type": "markdown",
   "id": "4e2049f2",
   "metadata": {},
   "source": [
    "## 14. Compute motif matches for peaks\n",
    "\n",
    "We use FIMO module from tangermeme (https://tangermeme.readthedocs.io/en/latest/tutorials/Tutorial_D1_FIMO.html) to score the motifs"
   ]
  },
  {
   "cell_type": "code",
   "execution_count": null,
   "id": "e0813fab-0845-40c7-95e2-cabf16661fc0",
   "metadata": {},
   "outputs": [],
   "source": [
    "motif_path = Path(config.motif_directory) / f\"{config.motif_database}_{config.species}.meme\"\n",
    "pwms_sub, key_to_tf = load_motif_database(motif_path, final_tfs)\n",
    "fasta_path = genome_dir / f\"{config.genome_assembly}.fa\"\n",
    "df_motif_scores = compute_motif_scores(\n",
    "    bed_file=peaks_bed,\n",
    "    fasta_file=fasta_path,\n",
    "    pwms_sub=pwms_sub,\n",
    "    key_to_tf=key_to_tf,\n",
    "    n_peaks=data_atac.shape[1],\n",
    "    window=500,threshold= config.motif_match_pvalue_threshold\n",
    ")\n",
    "df_motif_scores=df_motif_scores[final_tfs]  "
   ]
  },
  {
   "cell_type": "code",
   "execution_count": 18,
   "id": "a09c2d2b-49c7-4de8-b124-f60df687937a",
   "metadata": {},
   "outputs": [],
   "source": [
    "df_motif_scores.to_csv(out_dir / \"motif_scores.tsv\", sep=\"\\t\")"
   ]
  },
  {
   "cell_type": "markdown",
   "id": "da4e68ff",
   "metadata": {},
   "source": [
    "## 15. compute insilico-chipseq\n",
    "We first subset the previously computed ATAC metacell matrix to selected peaks and use it calculate correlation of TF-peak expression-accesibility. These correlations are thresholded based on an empirically determined cutoff ( from non-motif matched peaks per TF) and then multiplied by motif matching scores from FIMO to obtain insilico-chipseq scores ( adapted from https://www.biorxiv.org/content/10.1101/2022.06.15.496239v1 and DiFFTF https://pubmed.ncbi.nlm.nih.gov/31801079/)"
   ]
  },
  {
   "cell_type": "code",
   "execution_count": null,
   "id": "d84d122d-6c8b-48d4-9f99-c26fb6948d8c",
   "metadata": {},
   "outputs": [],
   "source": [
    "# 14) Recompute metacells for correlation with selected peaks\n",
    "    #     Or subset existing atac_metacell to the new set of peaks\n",
    "# then compute insilico-chipseq\n",
    "atac_metacell = atac_metacell[:, data_atac.var_names].copy()\n",
    "tf_mask = rna_metacell.var[\"gene_type\"] == \"TF\"\n",
    "rna_matrix = rna_metacell.X[:, tf_mask]  # shape=(n_meta, n_tfs)\n",
    "atac_matrix = atac_metacell.X  # shape=(n_meta, n_peaks)\n",
    "\n",
    "insilico_chipseq_act, insilico_chipseq_rep = compute_in_silico_chipseq(\n",
    "    atac_matrix=atac_matrix,\n",
    "    rna_matrix=rna_matrix,\n",
    "    motif_scores=df_motif_scores,\n",
    "    percentile=config.correlation_percentile,\n",
    "    n_bg=config.n_bg_peaks_for_corr\n",
    ")\n",
    "np.save(out_dir / \"insilico_chipseq_act.npy\", insilico_chipseq_act)\n",
    "np.save(out_dir / \"insilico_chipseq_rep.npy\", insilico_chipseq_rep)"
   ]
  },
  {
   "cell_type": "markdown",
   "id": "2304d255",
   "metadata": {},
   "source": [
    "## 16. Compute distance matrix between peaks and genes"
   ]
  },
  {
   "cell_type": "code",
   "execution_count": null,
   "id": "62a1d1ee-6162-4294-b34d-37bd01956b06",
   "metadata": {},
   "outputs": [],
   "source": [
    "# distance is set to 0 if the peak midpoint is within gene-body or promoter (5kb upstream of TSS by default)\n",
    "# distance is -1 if peak-gene pairs on different chromosomes\n",
    "\n",
    "data_atac.var[\"index_int\"] = range(data_atac.shape[1])\n",
    "selected_peak_indices = data_atac.var[\"index_int\"].values\n",
    "\n",
    "# Subset GTF to final genes\n",
    "gene_info = gtf_df[gtf_df.feature == \"gene\"].drop_duplicates(\"gene_name\")\n",
    "gene_info['gene']=gene_info['gene_name'].values\n",
    "gene_info = gene_info.set_index(\"gene_name\")\n",
    "gene_info = gene_info.loc[\n",
    "    data_rna.var_names.intersection(gene_info.index)\n",
    "]\n",
    "\n",
    "gene_info[\"chr\"] = gene_info[\"seqname\"]  # rename col for consistency\n",
    "# Create gene_coordinates_intersect with necessary columns\n",
    "gene_info = gene_info[[\n",
    "    \"chr\", \"start\", \"end\", \"strand\",\"gene\"\n",
    "]].copy()\n",
    "gene_info.columns = [\"chr_gene\", \"start\", \"end\", \"strand\",\"gene\"]\n",
    "\n",
    "dist_matrix = compute_gene_peak_distance_matrix(\n",
    "    data_rna=data_rna,\n",
    "    data_atac=data_atac,\n",
    "    gene_coordinates_intersect=gene_info\n",
    "    \n",
    ")\n",
    "np.save(out_dir / \"gene_peak_distance_raw.npy\", dist_matrix)"
   ]
  },
  {
   "cell_type": "code",
   "execution_count": null,
   "id": "f98a3423-4958-456c-ab56-27b7579ffd2c",
   "metadata": {},
   "outputs": [],
   "source": [
    "dist_matrix # -1 denotes peaks on different chromosome"
   ]
  },
  {
   "cell_type": "markdown",
   "id": "39b02b61",
   "metadata": {},
   "source": [
    "## 17. obtaining distance based decay terms to initialise peak-gene matrix for training scDoRI "
   ]
  },
  {
   "cell_type": "code",
   "execution_count": 23,
   "id": "770b2cc7-4862-4bbd-b248-8dd5783ffb99",
   "metadata": {},
   "outputs": [],
   "source": [
    "dist_matrix[dist_matrix < 0 ]= 1e8\n",
    "dist_matrix = np.exp(-1 * dist_matrix.astype(float) / config.peak_distance_scaling_factor)\n",
    "dist_matrix = np.where(dist_matrix < config.peak_distance_min_cutoff, 0, dist_matrix)\n",
    "np.save(out_dir / \"gene_peak_distance_exp.npy\", dist_matrix)"
   ]
  },
  {
   "cell_type": "markdown",
   "id": "0ddbeef1",
   "metadata": {},
   "source": [
    "## 18. Final Logging, completed preprocessing"
   ]
  },
  {
   "cell_type": "code",
   "execution_count": null,
   "id": "f523ca11-d8d4-4ffa-ac0e-28b0fe6cffd4",
   "metadata": {},
   "outputs": [],
   "source": [
    "logger.info(\"=== Pipeline completed successfully ===\")"
   ]
  }
 ],
 "metadata": {
  "kernelspec": {
   "display_name": "Python 3",
   "language": "python",
   "name": "python3"
  },
  "language_info": {
   "codemirror_mode": {
    "name": "ipython",
    "version": 3
   },
   "file_extension": ".py",
   "mimetype": "text/x-python",
   "name": "python",
   "nbconvert_exporter": "python",
   "pygments_lexer": "ipython3",
   "version": "3.10.16"
  }
 },
 "nbformat": 4,
 "nbformat_minor": 5
}
